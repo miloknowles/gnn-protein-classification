{
 "cells": [
  {
   "cell_type": "markdown",
   "metadata": {},
   "source": [
    "# Model Evaluation\n",
    "\n",
    "This notebook demonstrates how you can run my pre-trained model on unseen test data."
   ]
  },
  {
   "cell_type": "code",
   "execution_count": null,
   "metadata": {},
   "outputs": [],
   "source": [
    "# My virtual environment is tracked using `pipenv`.\n",
    "# From the top directory of the project, run:\n",
    "!pipenv install"
   ]
  },
  {
   "cell_type": "code",
   "execution_count": null,
   "metadata": {},
   "outputs": [],
   "source": [
    "import sys; sys.path.append('..')\n",
    "\n",
    "from functools import partial\n",
    "import tqdm, os, json\n",
    "\n",
    "import pandas as pd\n",
    "import torch\n",
    "import torch.nn as nn\n",
    "import gvpgnn.datasets as datasets\n",
    "import gvpgnn.models as models\n",
    "import gvpgnn.paths as paths\n",
    "import gvpgnn.data_models as dm\n",
    "import gvpgnn.embeddings as embeddings\n",
    "import gvpgnn.train_utils as train_utils\n",
    "import numpy as np\n",
    "import torch_geometric\n",
    "from sklearn.metrics import confusion_matrix\n",
    "from scripts.parser import parser"
   ]
  },
  {
   "cell_type": "markdown",
   "metadata": {},
   "source": []
  }
 ],
 "metadata": {
  "language_info": {
   "name": "python"
  }
 },
 "nbformat": 4,
 "nbformat_minor": 2
}
