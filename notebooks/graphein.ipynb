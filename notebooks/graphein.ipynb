{
 "cells": [
  {
   "cell_type": "markdown",
   "metadata": {},
   "source": [
    "# Graphein Graph Construction\n",
    "\n",
    "This notebook explores using the `graphein` library to construct graphs.\n",
    "\n",
    "Note: You'll need to `pip install graphein`, which is not included in the project dependencies."
   ]
  },
  {
   "cell_type": "code",
   "execution_count": 27,
   "metadata": {},
   "outputs": [],
   "source": [
    "import torch\n",
    "\n",
    "from graphein.protein.config import ProteinGraphConfig\n",
    "from graphein.protein.graphs import construct_graph\n",
    "\n",
    "from graphein.protein.edges.distance import (add_peptide_bonds,\n",
    "                                             add_hydrogen_bond_interactions,\n",
    "                                             add_disulfide_interactions,\n",
    "                                             add_ionic_interactions,\n",
    "                                             add_aromatic_interactions,\n",
    "                                             add_aromatic_sulphur_interactions,\n",
    "                                             add_cation_pi_interactions\n",
    "                                            )"
   ]
  },
  {
   "cell_type": "code",
   "execution_count": 28,
   "metadata": {},
   "outputs": [],
   "source": [
    "# Load the default config\n",
    "# config = ProteinGraphConfig(granularity='CA')\n",
    "# config.dict()\n",
    "\n",
    "new_edge_funcs = {\"edge_construction_functions\": [add_peptide_bonds,\n",
    "                                                  add_aromatic_interactions,\n",
    "                                                  add_hydrogen_bond_interactions,\n",
    "                                                  add_disulfide_interactions,\n",
    "                                                  add_ionic_interactions,\n",
    "                                                  add_aromatic_sulphur_interactions,\n",
    "                                                  add_cation_pi_interactions]\n",
    "                 }\n",
    "\n",
    "config = ProteinGraphConfig(**new_edge_funcs)"
   ]
  },
  {
   "cell_type": "code",
   "execution_count": 29,
   "metadata": {},
   "outputs": [
    {
     "data": {
      "text/html": [
       "<pre style=\"white-space:pre;overflow-x:auto;line-height:normal;font-family:Menlo,'DejaVu Sans Mono',consolas,'Courier New',monospace\"><span style=\"color: #7fbfbf; text-decoration-color: #7fbfbf\">[02/09/24 07:48:54] </span><span style=\"color: #008000; text-decoration-color: #008000\">DEBUG   </span> Deprotonating protein. This removes H atoms from the pdb_df dataframe    <a href=\"file:///Users/miloknowles/envs/cath-proteins-q1ibxFh1/lib/python3.11/site-packages/graphein/protein/graphs.py\" target=\"_blank\"><span style=\"color: #7f7f7f; text-decoration-color: #7f7f7f\">graphs.py</span></a><span style=\"color: #7f7f7f; text-decoration-color: #7f7f7f\">:</span><a href=\"file:///Users/miloknowles/envs/cath-proteins-q1ibxFh1/lib/python3.11/site-packages/graphein/protein/graphs.py#188\" target=\"_blank\"><span style=\"color: #7f7f7f; text-decoration-color: #7f7f7f\">188</span></a>\n",
       "</pre>\n"
      ],
      "text/plain": [
       "\u001b[2;36m[02/09/24 07:48:54]\u001b[0m\u001b[2;36m \u001b[0m\u001b[32mDEBUG   \u001b[0m Deprotonating protein. This removes H atoms from the pdb_df dataframe    \u001b]8;id=257880;file:///Users/miloknowles/envs/cath-proteins-q1ibxFh1/lib/python3.11/site-packages/graphein/protein/graphs.py\u001b\\\u001b[2mgraphs.py\u001b[0m\u001b]8;;\u001b\\\u001b[2m:\u001b[0m\u001b]8;id=16306;file:///Users/miloknowles/envs/cath-proteins-q1ibxFh1/lib/python3.11/site-packages/graphein/protein/graphs.py#188\u001b\\\u001b[2m188\u001b[0m\u001b]8;;\u001b\\\n"
      ]
     },
     "metadata": {},
     "output_type": "display_data"
    },
    {
     "data": {
      "text/html": [
       "<pre style=\"white-space:pre;overflow-x:auto;line-height:normal;font-family:Menlo,'DejaVu Sans Mono',consolas,'Courier New',monospace\"><span style=\"color: #7fbfbf; text-decoration-color: #7fbfbf\">                    </span><span style=\"color: #008000; text-decoration-color: #008000\">DEBUG   </span> Detected <span style=\"color: #008080; text-decoration-color: #008080; font-weight: bold\">159</span> total nodes                                                 <a href=\"file:///Users/miloknowles/envs/cath-proteins-q1ibxFh1/lib/python3.11/site-packages/graphein/protein/graphs.py\" target=\"_blank\"><span style=\"color: #7f7f7f; text-decoration-color: #7f7f7f\">graphs.py</span></a><span style=\"color: #7f7f7f; text-decoration-color: #7f7f7f\">:</span><a href=\"file:///Users/miloknowles/envs/cath-proteins-q1ibxFh1/lib/python3.11/site-packages/graphein/protein/graphs.py#435\" target=\"_blank\"><span style=\"color: #7f7f7f; text-decoration-color: #7f7f7f\">435</span></a>\n",
       "</pre>\n"
      ],
      "text/plain": [
       "\u001b[2;36m                   \u001b[0m\u001b[2;36m \u001b[0m\u001b[32mDEBUG   \u001b[0m Detected \u001b[1;36m159\u001b[0m total nodes                                                 \u001b]8;id=254486;file:///Users/miloknowles/envs/cath-proteins-q1ibxFh1/lib/python3.11/site-packages/graphein/protein/graphs.py\u001b\\\u001b[2mgraphs.py\u001b[0m\u001b]8;;\u001b\\\u001b[2m:\u001b[0m\u001b]8;id=406335;file:///Users/miloknowles/envs/cath-proteins-q1ibxFh1/lib/python3.11/site-packages/graphein/protein/graphs.py#435\u001b\\\u001b[2m435\u001b[0m\u001b]8;;\u001b\\\n"
      ]
     },
     "metadata": {},
     "output_type": "display_data"
    },
    {
     "name": "stderr",
     "output_type": "stream",
     "text": [
      "/Users/miloknowles/envs/cath-proteins-q1ibxFh1/lib/python3.11/site-packages/graphein/protein/edges/distance.py:1213: FutureWarning: The default value of numeric_only in DataFrameGroupBy.mean is deprecated. In a future version, numeric_only will default to False. Either specify numeric_only or select only columns which should be valid for the function.\n",
      "  .mean()[[\"x_coord\", \"y_coord\", \"z_coord\"]]\n",
      "/Users/miloknowles/envs/cath-proteins-q1ibxFh1/lib/python3.11/site-packages/graphein/protein/edges/distance.py:1213: FutureWarning: The default value of numeric_only in DataFrameGroupBy.mean is deprecated. In a future version, numeric_only will default to False. Either specify numeric_only or select only columns which should be valid for the function.\n",
      "  .mean()[[\"x_coord\", \"y_coord\", \"z_coord\"]]\n",
      "/Users/miloknowles/envs/cath-proteins-q1ibxFh1/lib/python3.11/site-packages/graphein/protein/edges/distance.py:1213: FutureWarning: The default value of numeric_only in DataFrameGroupBy.mean is deprecated. In a future version, numeric_only will default to False. Either specify numeric_only or select only columns which should be valid for the function.\n",
      "  .mean()[[\"x_coord\", \"y_coord\", \"z_coord\"]]\n",
      "/Users/miloknowles/envs/cath-proteins-q1ibxFh1/lib/python3.11/site-packages/graphein/protein/edges/distance.py:1213: FutureWarning: The default value of numeric_only in DataFrameGroupBy.mean is deprecated. In a future version, numeric_only will default to False. Either specify numeric_only or select only columns which should be valid for the function.\n",
      "  .mean()[[\"x_coord\", \"y_coord\", \"z_coord\"]]\n"
     ]
    },
    {
     "data": {
      "text/html": [
       "<pre style=\"white-space:pre;overflow-x:auto;line-height:normal;font-family:Menlo,'DejaVu Sans Mono',consolas,'Courier New',monospace\"><span style=\"color: #7fbfbf; text-decoration-color: #7fbfbf\">                    </span><span style=\"color: #000080; text-decoration-color: #000080\">INFO    </span> Found: <span style=\"color: #008080; text-decoration-color: #008080; font-weight: bold\">6</span> aromatic-aromatic interactions                                <a href=\"file:///Users/miloknowles/envs/cath-proteins-q1ibxFh1/lib/python3.11/site-packages/graphein/protein/edges/distance.py\" target=\"_blank\"><span style=\"color: #7f7f7f; text-decoration-color: #7f7f7f\">distance.py</span></a><span style=\"color: #7f7f7f; text-decoration-color: #7f7f7f\">:</span><a href=\"file:///Users/miloknowles/envs/cath-proteins-q1ibxFh1/lib/python3.11/site-packages/graphein/protein/edges/distance.py#467\" target=\"_blank\"><span style=\"color: #7f7f7f; text-decoration-color: #7f7f7f\">467</span></a>\n",
       "</pre>\n"
      ],
      "text/plain": [
       "\u001b[2;36m                   \u001b[0m\u001b[2;36m \u001b[0m\u001b[34mINFO    \u001b[0m Found: \u001b[1;36m6\u001b[0m aromatic-aromatic interactions                                \u001b]8;id=331160;file:///Users/miloknowles/envs/cath-proteins-q1ibxFh1/lib/python3.11/site-packages/graphein/protein/edges/distance.py\u001b\\\u001b[2mdistance.py\u001b[0m\u001b]8;;\u001b\\\u001b[2m:\u001b[0m\u001b]8;id=408773;file:///Users/miloknowles/envs/cath-proteins-q1ibxFh1/lib/python3.11/site-packages/graphein/protein/edges/distance.py#467\u001b\\\u001b[2m467\u001b[0m\u001b]8;;\u001b\\\n"
      ]
     },
     "metadata": {},
     "output_type": "display_data"
    },
    {
     "data": {
      "text/html": [
       "<pre style=\"white-space:pre;overflow-x:auto;line-height:normal;font-family:Menlo,'DejaVu Sans Mono',consolas,'Courier New',monospace\"><span style=\"color: #7fbfbf; text-decoration-color: #7fbfbf\">                    </span><span style=\"color: #000080; text-decoration-color: #000080\">INFO    </span> Found <span style=\"color: #008080; text-decoration-color: #008080; font-weight: bold\">69</span> hbond interactions.                                          <a href=\"file:///Users/miloknowles/envs/cath-proteins-q1ibxFh1/lib/python3.11/site-packages/graphein/protein/edges/distance.py\" target=\"_blank\"><span style=\"color: #7f7f7f; text-decoration-color: #7f7f7f\">distance.py</span></a><span style=\"color: #7f7f7f; text-decoration-color: #7f7f7f\">:</span><a href=\"file:///Users/miloknowles/envs/cath-proteins-q1ibxFh1/lib/python3.11/site-packages/graphein/protein/edges/distance.py#1344\" target=\"_blank\"><span style=\"color: #7f7f7f; text-decoration-color: #7f7f7f\">1344</span></a>\n",
       "</pre>\n"
      ],
      "text/plain": [
       "\u001b[2;36m                   \u001b[0m\u001b[2;36m \u001b[0m\u001b[34mINFO    \u001b[0m Found \u001b[1;36m69\u001b[0m hbond interactions.                                          \u001b]8;id=218079;file:///Users/miloknowles/envs/cath-proteins-q1ibxFh1/lib/python3.11/site-packages/graphein/protein/edges/distance.py\u001b\\\u001b[2mdistance.py\u001b[0m\u001b]8;;\u001b\\\u001b[2m:\u001b[0m\u001b]8;id=529592;file:///Users/miloknowles/envs/cath-proteins-q1ibxFh1/lib/python3.11/site-packages/graphein/protein/edges/distance.py#1344\u001b\\\u001b[2m1344\u001b[0m\u001b]8;;\u001b\\\n"
      ]
     },
     "metadata": {},
     "output_type": "display_data"
    },
    {
     "data": {
      "text/html": [
       "<pre style=\"white-space:pre;overflow-x:auto;line-height:normal;font-family:Menlo,'DejaVu Sans Mono',consolas,'Courier New',monospace\"><span style=\"color: #7fbfbf; text-decoration-color: #7fbfbf\">                    </span><span style=\"color: #000080; text-decoration-color: #000080\">INFO    </span> Found <span style=\"color: #008080; text-decoration-color: #008080; font-weight: bold\">6</span> hbond interactions.                                           <a href=\"file:///Users/miloknowles/envs/cath-proteins-q1ibxFh1/lib/python3.11/site-packages/graphein/protein/edges/distance.py\" target=\"_blank\"><span style=\"color: #7f7f7f; text-decoration-color: #7f7f7f\">distance.py</span></a><span style=\"color: #7f7f7f; text-decoration-color: #7f7f7f\">:</span><a href=\"file:///Users/miloknowles/envs/cath-proteins-q1ibxFh1/lib/python3.11/site-packages/graphein/protein/edges/distance.py#1344\" target=\"_blank\"><span style=\"color: #7f7f7f; text-decoration-color: #7f7f7f\">1344</span></a>\n",
       "</pre>\n"
      ],
      "text/plain": [
       "\u001b[2;36m                   \u001b[0m\u001b[2;36m \u001b[0m\u001b[34mINFO    \u001b[0m Found \u001b[1;36m6\u001b[0m hbond interactions.                                           \u001b]8;id=56995;file:///Users/miloknowles/envs/cath-proteins-q1ibxFh1/lib/python3.11/site-packages/graphein/protein/edges/distance.py\u001b\\\u001b[2mdistance.py\u001b[0m\u001b]8;;\u001b\\\u001b[2m:\u001b[0m\u001b]8;id=472442;file:///Users/miloknowles/envs/cath-proteins-q1ibxFh1/lib/python3.11/site-packages/graphein/protein/edges/distance.py#1344\u001b\\\u001b[2m1344\u001b[0m\u001b]8;;\u001b\\\n"
      ]
     },
     "metadata": {},
     "output_type": "display_data"
    },
    {
     "data": {
      "text/html": [
       "<pre style=\"white-space:pre;overflow-x:auto;line-height:normal;font-family:Menlo,'DejaVu Sans Mono',consolas,'Courier New',monospace\"><span style=\"color: #7fbfbf; text-decoration-color: #7fbfbf\">                    </span><span style=\"color: #000080; text-decoration-color: #000080\">INFO    </span> Found <span style=\"color: #008080; text-decoration-color: #008080; font-weight: bold\">3</span> disulfide interactions.                                       <a href=\"file:///Users/miloknowles/envs/cath-proteins-q1ibxFh1/lib/python3.11/site-packages/graphein/protein/edges/distance.py\" target=\"_blank\"><span style=\"color: #7f7f7f; text-decoration-color: #7f7f7f\">distance.py</span></a><span style=\"color: #7f7f7f; text-decoration-color: #7f7f7f\">:</span><a href=\"file:///Users/miloknowles/envs/cath-proteins-q1ibxFh1/lib/python3.11/site-packages/graphein/protein/edges/distance.py#1344\" target=\"_blank\"><span style=\"color: #7f7f7f; text-decoration-color: #7f7f7f\">1344</span></a>\n",
       "</pre>\n"
      ],
      "text/plain": [
       "\u001b[2;36m                   \u001b[0m\u001b[2;36m \u001b[0m\u001b[34mINFO    \u001b[0m Found \u001b[1;36m3\u001b[0m disulfide interactions.                                       \u001b]8;id=480307;file:///Users/miloknowles/envs/cath-proteins-q1ibxFh1/lib/python3.11/site-packages/graphein/protein/edges/distance.py\u001b\\\u001b[2mdistance.py\u001b[0m\u001b]8;;\u001b\\\u001b[2m:\u001b[0m\u001b]8;id=268540;file:///Users/miloknowles/envs/cath-proteins-q1ibxFh1/lib/python3.11/site-packages/graphein/protein/edges/distance.py#1344\u001b\\\u001b[2m1344\u001b[0m\u001b]8;;\u001b\\\n"
      ]
     },
     "metadata": {},
     "output_type": "display_data"
    },
    {
     "data": {
      "text/html": [
       "<pre style=\"white-space:pre;overflow-x:auto;line-height:normal;font-family:Menlo,'DejaVu Sans Mono',consolas,'Courier New',monospace\"><span style=\"color: #7fbfbf; text-decoration-color: #7fbfbf\">                    </span><span style=\"color: #000080; text-decoration-color: #000080\">INFO    </span> Found <span style=\"color: #008080; text-decoration-color: #008080; font-weight: bold\">1247</span> ionic interactions.                                        <a href=\"file:///Users/miloknowles/envs/cath-proteins-q1ibxFh1/lib/python3.11/site-packages/graphein/protein/edges/distance.py\" target=\"_blank\"><span style=\"color: #7f7f7f; text-decoration-color: #7f7f7f\">distance.py</span></a><span style=\"color: #7f7f7f; text-decoration-color: #7f7f7f\">:</span><a href=\"file:///Users/miloknowles/envs/cath-proteins-q1ibxFh1/lib/python3.11/site-packages/graphein/protein/edges/distance.py#1344\" target=\"_blank\"><span style=\"color: #7f7f7f; text-decoration-color: #7f7f7f\">1344</span></a>\n",
       "</pre>\n"
      ],
      "text/plain": [
       "\u001b[2;36m                   \u001b[0m\u001b[2;36m \u001b[0m\u001b[34mINFO    \u001b[0m Found \u001b[1;36m1247\u001b[0m ionic interactions.                                        \u001b]8;id=53003;file:///Users/miloknowles/envs/cath-proteins-q1ibxFh1/lib/python3.11/site-packages/graphein/protein/edges/distance.py\u001b\\\u001b[2mdistance.py\u001b[0m\u001b]8;;\u001b\\\u001b[2m:\u001b[0m\u001b]8;id=464610;file:///Users/miloknowles/envs/cath-proteins-q1ibxFh1/lib/python3.11/site-packages/graphein/protein/edges/distance.py#1344\u001b\\\u001b[2m1344\u001b[0m\u001b]8;;\u001b\\\n"
      ]
     },
     "metadata": {},
     "output_type": "display_data"
    },
    {
     "data": {
      "text/plain": [
       "<networkx.classes.graph.Graph at 0x2b9b21650>"
      ]
     },
     "execution_count": 29,
     "metadata": {},
     "output_type": "execute_result"
    }
   ],
   "source": [
    "# Construct the graph!\n",
    "g = construct_graph(config, path=\"../data/pdb_share/1a0gA02.pdb\", verbose=False)\n",
    "g"
   ]
  },
  {
   "cell_type": "code",
   "execution_count": 37,
   "metadata": {},
   "outputs": [
    {
     "name": "stdout",
     "output_type": "stream",
     "text": [
      "159\n",
      "192\n"
     ]
    },
    {
     "data": {
      "text/plain": [
       "tensor([[  0,   1],\n",
       "        [  1,   2],\n",
       "        [  1, 125],\n",
       "        [  1, 154],\n",
       "        [  2,   3],\n",
       "        [  3,   4],\n",
       "        [  4,   5],\n",
       "        [  4,   8],\n",
       "        [  5,   6],\n",
       "        [  6,   7],\n",
       "        [  7,   8],\n",
       "        [  7, 147],\n",
       "        [  8,   9],\n",
       "        [  9,  10],\n",
       "        [ 10,  11],\n",
       "        [ 11,  12],\n",
       "        [ 11, 131],\n",
       "        [ 12,  13],\n",
       "        [ 13,  14],\n",
       "        [ 14,  15],\n",
       "        [ 14,  51],\n",
       "        [ 15,  16],\n",
       "        [ 16,  17],\n",
       "        [ 16,  51],\n",
       "        [ 17,  18],\n",
       "        [ 17,  52],\n",
       "        [ 17,  19],\n",
       "        [ 17,  51],\n",
       "        [ 18,  19],\n",
       "        [ 19,  20],\n",
       "        [ 19,  58],\n",
       "        [ 20,  21],\n",
       "        [ 21,  22],\n",
       "        [ 22,  23],\n",
       "        [ 22,  24],\n",
       "        [ 23,  24],\n",
       "        [ 24,  25],\n",
       "        [ 25,  26],\n",
       "        [ 26,  27],\n",
       "        [ 27,  28],\n",
       "        [ 28,  29],\n",
       "        [ 29,  30],\n",
       "        [ 30,  31],\n",
       "        [ 31,  32],\n",
       "        [ 32,  33],\n",
       "        [ 33,  34],\n",
       "        [ 34,  35],\n",
       "        [ 35,  36],\n",
       "        [ 36,  37],\n",
       "        [ 37,  38],\n",
       "        [ 37,  61],\n",
       "        [ 37,  60],\n",
       "        [ 37,  47],\n",
       "        [ 38,  39],\n",
       "        [ 39,  40],\n",
       "        [ 39,  43],\n",
       "        [ 40,  41],\n",
       "        [ 41,  42],\n",
       "        [ 42,  43],\n",
       "        [ 43,  44],\n",
       "        [ 43, 133],\n",
       "        [ 44,  45],\n",
       "        [ 45,  46],\n",
       "        [ 46,  47],\n",
       "        [ 46, 124],\n",
       "        [ 47,  48],\n",
       "        [ 48,  49],\n",
       "        [ 49,  50],\n",
       "        [ 50,  51],\n",
       "        [ 51,  52],\n",
       "        [ 52,  53],\n",
       "        [ 53,  54],\n",
       "        [ 54,  55],\n",
       "        [ 55,  56],\n",
       "        [ 56,  57],\n",
       "        [ 57,  58],\n",
       "        [ 58,  59],\n",
       "        [ 59,  60],\n",
       "        [ 60,  61],\n",
       "        [ 61,  62],\n",
       "        [ 62,  63],\n",
       "        [ 63,  64],\n",
       "        [ 64,  65],\n",
       "        [ 65,  66],\n",
       "        [ 65, 118],\n",
       "        [ 66,  67],\n",
       "        [ 67,  68],\n",
       "        [ 68,  69],\n",
       "        [ 68, 115],\n",
       "        [ 69,  70],\n",
       "        [ 70,  71],\n",
       "        [ 71,  72],\n",
       "        [ 72,  73],\n",
       "        [ 73,  74],\n",
       "        [ 73, 106],\n",
       "        [ 74,  75],\n",
       "        [ 75,  76],\n",
       "        [ 76,  77],\n",
       "        [ 77,  78],\n",
       "        [ 78,  79],\n",
       "        [ 79,  80],\n",
       "        [ 80,  81],\n",
       "        [ 81,  82],\n",
       "        [ 82,  83],\n",
       "        [ 83,  84],\n",
       "        [ 83,  88],\n",
       "        [ 84,  85],\n",
       "        [ 85,  86],\n",
       "        [ 86,  87],\n",
       "        [ 87,  88],\n",
       "        [ 87, 103],\n",
       "        [ 88,  89],\n",
       "        [ 89,  90],\n",
       "        [ 90,  91],\n",
       "        [ 91,  92],\n",
       "        [ 92,  93],\n",
       "        [ 93,  94],\n",
       "        [ 94,  95],\n",
       "        [ 95,  96],\n",
       "        [ 96,  97],\n",
       "        [ 96, 156],\n",
       "        [ 97,  98],\n",
       "        [ 98,  99],\n",
       "        [ 99, 100],\n",
       "        [100, 101],\n",
       "        [101, 102],\n",
       "        [102, 103],\n",
       "        [103, 104],\n",
       "        [104, 105],\n",
       "        [105, 106],\n",
       "        [106, 107],\n",
       "        [107, 108],\n",
       "        [108, 109],\n",
       "        [109, 110],\n",
       "        [110, 111],\n",
       "        [110, 113],\n",
       "        [111, 112],\n",
       "        [112, 113],\n",
       "        [113, 114],\n",
       "        [114, 115],\n",
       "        [115, 116],\n",
       "        [115, 138],\n",
       "        [116, 117],\n",
       "        [116, 138],\n",
       "        [117, 118],\n",
       "        [118, 119],\n",
       "        [119, 120],\n",
       "        [120, 121],\n",
       "        [121, 122],\n",
       "        [121, 124],\n",
       "        [122, 123],\n",
       "        [123, 124],\n",
       "        [124, 125],\n",
       "        [125, 126],\n",
       "        [126, 127],\n",
       "        [127, 128],\n",
       "        [128, 129],\n",
       "        [129, 130],\n",
       "        [130, 131],\n",
       "        [131, 132],\n",
       "        [132, 133],\n",
       "        [133, 134],\n",
       "        [133, 135],\n",
       "        [134, 135],\n",
       "        [135, 136],\n",
       "        [136, 137],\n",
       "        [137, 138],\n",
       "        [138, 139],\n",
       "        [138, 144],\n",
       "        [139, 140],\n",
       "        [139, 141],\n",
       "        [140, 141],\n",
       "        [141, 142],\n",
       "        [142, 143],\n",
       "        [143, 144],\n",
       "        [144, 145],\n",
       "        [144, 147],\n",
       "        [144, 148],\n",
       "        [145, 146],\n",
       "        [146, 147],\n",
       "        [147, 148],\n",
       "        [148, 149],\n",
       "        [149, 150],\n",
       "        [150, 151],\n",
       "        [151, 152],\n",
       "        [151, 154],\n",
       "        [152, 153],\n",
       "        [153, 154],\n",
       "        [154, 155],\n",
       "        [155, 156],\n",
       "        [156, 157],\n",
       "        [157, 158]])"
      ]
     },
     "execution_count": 37,
     "metadata": {},
     "output_type": "execute_result"
    }
   ],
   "source": [
    "print(len(g.nodes))\n",
    "print(len(g.edges))\n",
    "\n",
    "g.nodes.keys()\n",
    "\n",
    "map_key_to_idx = {}\n",
    "for i, key in enumerate(g.nodes):\n",
    "  map_key_to_idx[key] = i\n",
    "\n",
    "edge_index = torch.zeros((len(g.edges), 2), dtype=torch.long)\n",
    "\n",
    "# for i, edge in \n",
    "for k, edge in enumerate(g.edges):\n",
    "  edge_index[k] = torch.LongTensor([map_key_to_idx[edge[0]], map_key_to_idx[edge[1]]])\n",
    "\n",
    "edge_index"
   ]
  },
  {
   "cell_type": "code",
   "execution_count": null,
   "metadata": {},
   "outputs": [],
   "source": []
  }
 ],
 "metadata": {
  "kernelspec": {
   "display_name": "cath-proteins-q1ibxFh1",
   "language": "python",
   "name": "python3"
  },
  "language_info": {
   "codemirror_mode": {
    "name": "ipython",
    "version": 3
   },
   "file_extension": ".py",
   "mimetype": "text/x-python",
   "name": "python",
   "nbconvert_exporter": "python",
   "pygments_lexer": "ipython3",
   "version": "3.11.7"
  }
 },
 "nbformat": 4,
 "nbformat_minor": 2
}
