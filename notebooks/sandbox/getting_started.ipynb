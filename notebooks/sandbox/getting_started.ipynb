{
  "cells": [
    {
      "cell_type": "markdown",
      "metadata": {
        "id": "4nBQoXU14uH0"
      },
      "source": [
        "# ML Hands-on Challenge - Getting started \n",
        "\n",
        "The goal of this notebook is to explore the data that we have provided from the ML hands-on challenge. You will learn more about the CATH labels, how to visualize the protein structure, and challenges you will have to handle (e.g. gaps in structure). "
      ]
    },
    {
      "cell_type": "markdown",
      "metadata": {
        "id": "X68r38NK48__"
      },
      "source": [
        "## 0. Setup"
      ]
    },
    {
      "cell_type": "code",
      "execution_count": null,
      "metadata": {
        "colab": {
          "base_uri": "https://localhost:8080/"
        },
        "id": "3HB6BQXd4ngX",
        "outputId": "4eb3bfa2-0761-4cdf-8ed4-406768b87e4f"
      },
      "outputs": [],
      "source": [
        "!pip install biopython\n",
        "!pip install py3dmol"
      ]
    },
    {
      "cell_type": "code",
      "execution_count": null,
      "metadata": {
        "id": "aXZHq0rM4oA0"
      },
      "outputs": [],
      "source": [
        "import pandas as pd\n",
        "import numpy as np\n",
        "import sys\n",
        "import glob\n",
        "import os\n",
        "import Bio.PDB.PDBParser\n",
        "import py3Dmol\n",
        "import warnings\n",
        "\n",
        "sys.path.append('../')\n",
        "\n",
        "warnings.filterwarnings(\"ignore\", message=\"Used element '.' for Atom\")\n",
        "\n",
        "architecture_names = {(1, 10): \"Mainly Alpha: Orthogonal Bundle\",\n",
        "                      (1, 20): \"Mainly Alpha: Up-down Bundle\",\n",
        "                      (2, 30): \"Mainly Beta: Roll\",\n",
        "                      (2, 40): \"Mainly Beta: Beta Barrel\",\n",
        "                      (2, 60): \"Mainly Beta: Sandwich\",\n",
        "                      (3, 10): \"Alpha Beta: Roll\",\n",
        "                      (3, 20): \"Alpha Beta: Alpha-Beta Barrel\",\n",
        "                      (3, 30): \"Alpha Beta: 2-Layer Sandwich\",\n",
        "                      (3, 40): \"Alpha Beta: 3-Layer(aba) Sandwich\",\n",
        "                      (3, 90): \"Alpha Beta: Alpha-Beta Complex\"}"
      ]
    },
    {
      "cell_type": "markdown",
      "metadata": {
        "id": "Aqw-tOGR5LFr"
      },
      "source": [
        "## 1. Opening the data"
      ]
    },
    {
      "cell_type": "code",
      "execution_count": null,
      "metadata": {
        "colab": {
          "base_uri": "https://localhost:8080/",
          "height": 443
        },
        "id": "w3fjbAlf5PH5",
        "outputId": "b88a3ddb-13e4-451a-f085-e7c6f8ea02d7"
      },
      "outputs": [],
      "source": [
        "# Open the training data sequences and structure\n",
        "data = pd.read_csv('../data/cath_w_seqs_share.csv', index_col=0)\n",
        "data"
      ]
    },
    {
      "cell_type": "code",
      "execution_count": null,
      "metadata": {
        "colab": {
          "base_uri": "https://localhost:8080/"
        },
        "id": "wWNlCogdnSrT",
        "outputId": "77a1e710-e870-4393-c16a-f97b0f95cfb6"
      },
      "outputs": [],
      "source": [
        "# The CATH classification for a protein can be determined by concatenating the columns\n",
        "example_cath_id = data['cath_id'][0]\n",
        "example_class = data['class'][0]\n",
        "example_arch = f\"({example_class},{data['architecture'][0]})\"\n",
        "example_topo = f\"({example_class},{data['architecture'][0]},{data['topology'][0]})\"\n",
        "example_superfam = f\"({example_class},{data['architecture'][0]},{data['topology'][0]},{data['superfamily'][0]})\"\n",
        "\n",
        "print(f\"\"\"\n",
        "Protein domain with cath id {example_cath_id} is in class {example_class}, \\\n",
        "architecture {example_arch}, topology {example_topo}, and superfamily {example_superfam}.\n",
        "\"\"\")"
      ]
    },
    {
      "cell_type": "markdown",
      "metadata": {},
      "source": [
        "For this example cath id \"2w3sB01,\" your model should ideally classify it as architecture (3,90). Also, from this example, you can deduce how to construct the labels that you need."
      ]
    },
    {
      "cell_type": "code",
      "execution_count": null,
      "metadata": {
        "id": "MHVqwbiY4aX0"
      },
      "outputs": [],
      "source": [
        "# NOTE(milo): Couldn't get this command to run on a Git LFS pointer file.\n",
        "!unzip pdb_share.zip"
      ]
    },
    {
      "cell_type": "code",
      "execution_count": null,
      "metadata": {
        "colab": {
          "base_uri": "https://localhost:8080/"
        },
        "id": "EIT8Nj8cpGi2",
        "outputId": "56497b63-5b38-4049-deab-226c63a8e08c"
      },
      "outputs": [],
      "source": [
        "# The sequences come from the PDB files\n",
        "from Bio.PDB.Polypeptide import protein_letters_3to1\n",
        "\n",
        "def get_sequence_from_pdb(pdb_filename):\n",
        "    pdb_parser = Bio.PDB.PDBParser()\n",
        "    structure = pdb_parser.get_structure(pdb_filename, pdb_filename)\n",
        "    assert len(structure) == 1\n",
        "\n",
        "    seq = []\n",
        "\n",
        "    for model in structure:\n",
        "        for chain in model:\n",
        "            for residue in chain:\n",
        "                if residue.get_id()[0] == \" \":  # This checks if it's a standard residue\n",
        "                    seq.append(protein_letters_3to1[residue.get_resname()])\n",
        "                else:\n",
        "                    print('nonstandard', residue.get_id())\n",
        "\n",
        "    return ''.join(seq)\n",
        "\n",
        "example_seq = get_sequence_from_pdb(f\"../data/pdb_share/{example_cath_id}\")\n",
        "print(f\"The sequence for cath id {example_cath_id} is {example_seq}\")\n",
        "\n",
        "# Check that it matches the data file\n",
        "data['sequences'][0] == example_seq"
      ]
    },
    {
      "cell_type": "markdown",
      "metadata": {
        "id": "bLeCYUQrwqzT"
      },
      "source": [
        "## 2. Visualize some examples\n",
        "\n",
        "We are grouping at the CATH architecture level as this is the level that your models will be classifying the protein domains.\n",
        "\n",
        "There are 10 CATH architectures that the protein domains can be classified into, and we will explore examples from each architecture."
      ]
    },
    {
      "cell_type": "code",
      "execution_count": null,
      "metadata": {
        "colab": {
          "base_uri": "https://localhost:8080/",
          "height": 449
        },
        "id": "LHEWBWYA5V_O",
        "outputId": "155fd3b4-a125-4644-95c3-66d48707041b"
      },
      "outputs": [],
      "source": [
        "# Load sequence and structure for one example for each architecture\n",
        "cath_examples = data.groupby(['class', 'architecture'])[['cath_id','sequences']].first()\n",
        "cath_examples"
      ]
    },
    {
      "cell_type": "code",
      "execution_count": null,
      "metadata": {
        "id": "DVSDq4Tx5fpN"
      },
      "outputs": [],
      "source": [
        "def view_structure(pdb_filename, name, gaps=[], width=300, height=300):\n",
        "  pdb_parser = Bio.PDB.PDBParser()\n",
        "  structure = pdb_parser.get_structure(pdb_filename, pdb_filename)\n",
        "\n",
        "  # Add the model and set the cartoon style\n",
        "  viewer = py3Dmol.view(query=f'arch: {name}, pdb: {pdb_filename}', width=width, height=height)\n",
        "  viewer.addModel(open(pdb_filename, 'r').read(), 'pdb')\n",
        "  viewer.setStyle({'cartoon': {'color': 'spectrum'}})\n",
        "\n",
        "  if gaps:\n",
        "    # Add dashed lines for gaps\n",
        "    for chain_id, start_res, end_res in gaps:\n",
        "        try:\n",
        "            start_residue = structure[0][chain_id][start_res-1]\n",
        "            end_residue = structure[0][chain_id][end_res]\n",
        "\n",
        "            # Get coordinates and convert to Python float\n",
        "            start_coords = [float(coord) for coord in start_residue['CA'].get_coord()]\n",
        "            end_coords = [float(coord) for coord in end_residue['CA'].get_coord()]\n",
        "\n",
        "            # Add dashed cylinders for missing residues\n",
        "            viewer.addCylinder({'start': {'x': start_coords[0], 'y': start_coords[1], 'z': start_coords[2]},\n",
        "                                'end': {'x': end_coords[0], 'y': end_coords[1], 'z': end_coords[2]},\n",
        "                                'radius': 0.1, 'color': 'red', 'dashed': True, 'fromCap': 1, 'toCap': 1})\n",
        "        except KeyError:\n",
        "          print(f\"Residue {start_res} or {end_res} in chain {chain_id} not found.\")\n",
        "\n",
        "  viewer.zoomTo()\n",
        "  return viewer"
      ]
    },
    {
      "cell_type": "code",
      "execution_count": null,
      "metadata": {
        "colab": {
          "base_uri": "https://localhost:8080/",
          "height": 1000,
          "resources": {
            "http://localhost:8080/": {
              "data": "CjwhRE9DVFlQRSBodG1sPgo8aHRtbCBsYW5nPWVuPgogIDxtZXRhIGNoYXJzZXQ9dXRmLTg+CiAgPG1ldGEgbmFtZT12aWV3cG9ydCBjb250ZW50PSJpbml0aWFsLXNjYWxlPTEsIG1pbmltdW0tc2NhbGU9MSwgd2lkdGg9ZGV2aWNlLXdpZHRoIj4KICA8dGl0bGU+RXJyb3IgNDA0IChOb3QgRm91bmQpISExPC90aXRsZT4KICA8c3R5bGU+CiAgICAqe21hcmdpbjowO3BhZGRpbmc6MH1odG1sLGNvZGV7Zm9udDoxNXB4LzIycHggYXJpYWwsc2Fucy1zZXJpZn1odG1se2JhY2tncm91bmQ6I2ZmZjtjb2xvcjojMjIyO3BhZGRpbmc6MTVweH1ib2R5e21hcmdpbjo3JSBhdXRvIDA7bWF4LXdpZHRoOjM5MHB4O21pbi1oZWlnaHQ6MTgwcHg7cGFkZGluZzozMHB4IDAgMTVweH0qID4gYm9keXtiYWNrZ3JvdW5kOnVybCgvL3d3dy5nb29nbGUuY29tL2ltYWdlcy9lcnJvcnMvcm9ib3QucG5nKSAxMDAlIDVweCBuby1yZXBlYXQ7cGFkZGluZy1yaWdodDoyMDVweH1we21hcmdpbjoxMXB4IDAgMjJweDtvdmVyZmxvdzpoaWRkZW59aW5ze2NvbG9yOiM3Nzc7dGV4dC1kZWNvcmF0aW9uOm5vbmV9YSBpbWd7Ym9yZGVyOjB9QG1lZGlhIHNjcmVlbiBhbmQgKG1heC13aWR0aDo3NzJweCl7Ym9keXtiYWNrZ3JvdW5kOm5vbmU7bWFyZ2luLXRvcDowO21heC13aWR0aDpub25lO3BhZGRpbmctcmlnaHQ6MH19I2xvZ297YmFja2dyb3VuZDp1cmwoLy93d3cuZ29vZ2xlLmNvbS9pbWFnZXMvbG9nb3MvZXJyb3JwYWdlL2Vycm9yX2xvZ28tMTUweDU0LnBuZykgbm8tcmVwZWF0O21hcmdpbi1sZWZ0Oi01cHh9QG1lZGlhIG9ubHkgc2NyZWVuIGFuZCAobWluLXJlc29sdXRpb246MTkyZHBpKXsjbG9nb3tiYWNrZ3JvdW5kOnVybCgvL3d3dy5nb29nbGUuY29tL2ltYWdlcy9sb2dvcy9lcnJvcnBhZ2UvZXJyb3JfbG9nby0xNTB4NTQtMngucG5nKSBuby1yZXBlYXQgMCUgMCUvMTAwJSAxMDAlOy1tb3otYm9yZGVyLWltYWdlOnVybCgvL3d3dy5nb29nbGUuY29tL2ltYWdlcy9sb2dvcy9lcnJvcnBhZ2UvZXJyb3JfbG9nby0xNTB4NTQtMngucG5nKSAwfX1AbWVkaWEgb25seSBzY3JlZW4gYW5kICgtd2Via2l0LW1pbi1kZXZpY2UtcGl4ZWwtcmF0aW86Mil7I2xvZ297YmFja2dyb3VuZDp1cmwoLy93d3cuZ29vZ2xlLmNvbS9pbWFnZXMvbG9nb3MvZXJyb3JwYWdlL2Vycm9yX2xvZ28tMTUweDU0LTJ4LnBuZykgbm8tcmVwZWF0Oy13ZWJraXQtYmFja2dyb3VuZC1zaXplOjEwMCUgMTAwJX19I2xvZ297ZGlzcGxheTppbmxpbmUtYmxvY2s7aGVpZ2h0OjU0cHg7d2lkdGg6MTUwcHh9CiAgPC9zdHlsZT4KICA8YSBocmVmPS8vd3d3Lmdvb2dsZS5jb20vPjxzcGFuIGlkPWxvZ28gYXJpYS1sYWJlbD1Hb29nbGU+PC9zcGFuPjwvYT4KICA8cD48Yj40MDQuPC9iPiA8aW5zPlRoYXTigJlzIGFuIGVycm9yLjwvaW5zPgogIDxwPiAgPGlucz5UaGF04oCZcyBhbGwgd2Uga25vdy48L2lucz4K",
              "headers": [
                [
                  "content-length",
                  "1449"
                ],
                [
                  "content-type",
                  "text/html; charset=utf-8"
                ]
              ],
              "ok": false,
              "status": 404,
              "status_text": ""
            }
          }
        },
        "id": "qus70XtU51pb",
        "outputId": "3297b0cc-9494-4c5a-f4ae-478830325093"
      },
      "outputs": [],
      "source": [
        "import py3Dmol\n",
        "from IPython.display import display, HTML\n",
        "\n",
        "# NOTE(milo): Modified this file path!\n",
        "pdb_dir = '../data/pdb_share'\n",
        "num_columns = [2, 3, 5]  # Number of columns in the grid\n",
        "# titles = ['Structure 1', 'Structure 2', 'Structure 3', 'Structure 4']\n",
        "\n",
        "# Creating HTML table for the grid\n",
        "html = '<table><tr>'\n",
        "print_col = 0\n",
        "for i, (arch, row) in enumerate(cath_examples.iterrows()):\n",
        "    cath_id = row[0]\n",
        "    pdb_filename = os.path.join(pdb_dir, cath_id)\n",
        "\n",
        "    if (i-sum(num_columns[:print_col])) % num_columns[print_col] == 0 and i > 0:\n",
        "        print_col += 1\n",
        "        html += '</tr><tr>'\n",
        "    viewer_html = view_structure(pdb_filename, arch)._make_html()\n",
        "    html += f'<td><div style=\"text-align: center;\"><strong>{arch} {architecture_names[arch]}</strong></div>{viewer_html}</td>'\n",
        "html += '</tr></table>'\n",
        "\n",
        "# Display the grid\n",
        "display(HTML(html))\n"
      ]
    },
    {
      "cell_type": "markdown",
      "metadata": {
        "id": "KInhEF5UwuID"
      },
      "source": [
        "## 3. Note the gaps\n",
        "\n",
        "Since the protein domain structures are experimental determined, there are some regions of the domain that failed to resolve. These residue show up as gaps in the protein domain sequence and structure."
      ]
    },
    {
      "cell_type": "code",
      "execution_count": null,
      "metadata": {
        "colab": {
          "base_uri": "https://localhost:8080/",
          "height": 132
        },
        "id": "ZF9qDxtDxANY",
        "outputId": "9aea5622-d7ec-4598-f005-c3be7cdb5c33"
      },
      "outputs": [],
      "source": [
        "# Indices of the cath domain associated with the cath_id in the full protein\n",
        "# that can be found using the pdb id in the PDB online.\n",
        "\n",
        "example_cath_ids = ['3zq4C03', '3i9v600']\n",
        "tmp = data[data['cath_id'].isin(example_cath_ids)]\n",
        "\n",
        "print(tmp.iloc[0])\n",
        "print(len(tmp.iloc[0].sequences))\n",
        "tmp.iloc[0].cath_indices\n",
        "print(555 - 449)"
      ]
    },
    {
      "cell_type": "code",
      "execution_count": null,
      "metadata": {
        "id": "5mJ9GiNQx3xn"
      },
      "outputs": [],
      "source": [
        "# If you compare the indices that in the cath_indices range and not in the PDB file\n",
        "# residue indices, for these examples you will get this\n",
        "# NOTE(milo): The cath_indicates are the relevant parts of PDB file for the protein domain.\n",
        "# NOTE(milo): The gap indices below are not inclusive of the ending index.\n",
        "example_gaps = {'3zq4C03': [('C', 493, 501)],\n",
        "                '3i9v600': [('6', 58, 74)]}"
      ]
    },
    {
      "cell_type": "code",
      "execution_count": null,
      "metadata": {
        "colab": {
          "base_uri": "https://localhost:8080/",
          "height": 340,
          "resources": {
            "http://localhost:8080/": {
              "data": "CjwhRE9DVFlQRSBodG1sPgo8aHRtbCBsYW5nPWVuPgogIDxtZXRhIGNoYXJzZXQ9dXRmLTg+CiAgPG1ldGEgbmFtZT12aWV3cG9ydCBjb250ZW50PSJpbml0aWFsLXNjYWxlPTEsIG1pbmltdW0tc2NhbGU9MSwgd2lkdGg9ZGV2aWNlLXdpZHRoIj4KICA8dGl0bGU+RXJyb3IgNDA0IChOb3QgRm91bmQpISExPC90aXRsZT4KICA8c3R5bGU+CiAgICAqe21hcmdpbjowO3BhZGRpbmc6MH1odG1sLGNvZGV7Zm9udDoxNXB4LzIycHggYXJpYWwsc2Fucy1zZXJpZn1odG1se2JhY2tncm91bmQ6I2ZmZjtjb2xvcjojMjIyO3BhZGRpbmc6MTVweH1ib2R5e21hcmdpbjo3JSBhdXRvIDA7bWF4LXdpZHRoOjM5MHB4O21pbi1oZWlnaHQ6MTgwcHg7cGFkZGluZzozMHB4IDAgMTVweH0qID4gYm9keXtiYWNrZ3JvdW5kOnVybCgvL3d3dy5nb29nbGUuY29tL2ltYWdlcy9lcnJvcnMvcm9ib3QucG5nKSAxMDAlIDVweCBuby1yZXBlYXQ7cGFkZGluZy1yaWdodDoyMDVweH1we21hcmdpbjoxMXB4IDAgMjJweDtvdmVyZmxvdzpoaWRkZW59aW5ze2NvbG9yOiM3Nzc7dGV4dC1kZWNvcmF0aW9uOm5vbmV9YSBpbWd7Ym9yZGVyOjB9QG1lZGlhIHNjcmVlbiBhbmQgKG1heC13aWR0aDo3NzJweCl7Ym9keXtiYWNrZ3JvdW5kOm5vbmU7bWFyZ2luLXRvcDowO21heC13aWR0aDpub25lO3BhZGRpbmctcmlnaHQ6MH19I2xvZ297YmFja2dyb3VuZDp1cmwoLy93d3cuZ29vZ2xlLmNvbS9pbWFnZXMvbG9nb3MvZXJyb3JwYWdlL2Vycm9yX2xvZ28tMTUweDU0LnBuZykgbm8tcmVwZWF0O21hcmdpbi1sZWZ0Oi01cHh9QG1lZGlhIG9ubHkgc2NyZWVuIGFuZCAobWluLXJlc29sdXRpb246MTkyZHBpKXsjbG9nb3tiYWNrZ3JvdW5kOnVybCgvL3d3dy5nb29nbGUuY29tL2ltYWdlcy9sb2dvcy9lcnJvcnBhZ2UvZXJyb3JfbG9nby0xNTB4NTQtMngucG5nKSBuby1yZXBlYXQgMCUgMCUvMTAwJSAxMDAlOy1tb3otYm9yZGVyLWltYWdlOnVybCgvL3d3dy5nb29nbGUuY29tL2ltYWdlcy9sb2dvcy9lcnJvcnBhZ2UvZXJyb3JfbG9nby0xNTB4NTQtMngucG5nKSAwfX1AbWVkaWEgb25seSBzY3JlZW4gYW5kICgtd2Via2l0LW1pbi1kZXZpY2UtcGl4ZWwtcmF0aW86Mil7I2xvZ297YmFja2dyb3VuZDp1cmwoLy93d3cuZ29vZ2xlLmNvbS9pbWFnZXMvbG9nb3MvZXJyb3JwYWdlL2Vycm9yX2xvZ28tMTUweDU0LTJ4LnBuZykgbm8tcmVwZWF0Oy13ZWJraXQtYmFja2dyb3VuZC1zaXplOjEwMCUgMTAwJX19I2xvZ297ZGlzcGxheTppbmxpbmUtYmxvY2s7aGVpZ2h0OjU0cHg7d2lkdGg6MTUwcHh9CiAgPC9zdHlsZT4KICA8YSBocmVmPS8vd3d3Lmdvb2dsZS5jb20vPjxzcGFuIGlkPWxvZ28gYXJpYS1sYWJlbD1Hb29nbGU+PC9zcGFuPjwvYT4KICA8cD48Yj40MDQuPC9iPiA8aW5zPlRoYXTigJlzIGFuIGVycm9yLjwvaW5zPgogIDxwPiAgPGlucz5UaGF04oCZcyBhbGwgd2Uga25vdy48L2lucz4K",
              "headers": [
                [
                  "content-length",
                  "1449"
                ],
                [
                  "content-type",
                  "text/html; charset=utf-8"
                ]
              ],
              "ok": false,
              "status": 404,
              "status_text": ""
            }
          }
        },
        "id": "K8d_a38LzYvV",
        "outputId": "950f28fe-9e72-4cdc-a154-6cedcca62964"
      },
      "outputs": [],
      "source": [
        "# We can visualize the gaps are red lines\n",
        "import py3Dmol\n",
        "from IPython.display import display, HTML\n",
        "\n",
        "# Creating HTML table for the grid\n",
        "html = '<table><tr>'\n",
        "for cath_id, gap in example_gaps.items():\n",
        "  viewer_html = view_structure(f'pdb_share/{cath_id}', cath_id, gaps=gap)._make_html()\n",
        "  html += f'<td><div style=\"text-align: center;\"><strong>{cath_id}</strong></div>{viewer_html}</td>'\n",
        "html += '</tr></table>'\n",
        "\n",
        "# Display the grid\n",
        "display(HTML(html))"
      ]
    },
    {
      "cell_type": "markdown",
      "metadata": {},
      "source": [
        "## Understanding the PDB files"
      ]
    },
    {
      "cell_type": "code",
      "execution_count": null,
      "metadata": {},
      "outputs": [],
      "source": [
        "# Using 1a0sP00 as an example\n",
        "row = data[data.cath_id == '1a0sP00'].iloc[0]\n",
        "\n",
        "print(\"The sequence of amino acids is:\", row.sequences)"
      ]
    },
    {
      "cell_type": "code",
      "execution_count": null,
      "metadata": {},
      "outputs": [],
      "source": [
        "# This is some example data from the PDB file:\n",
        "# ATOM      1  N   SER P  71     -47.333   0.941   8.834  1.00 52.56\n",
        "# ATOM      2  CA  SER P  71     -45.849   0.731   8.796  1.00 53.56\n",
        "# ATOM      3  C   SER P  71     -45.191   1.608   7.714  1.00 51.61\n",
        "# ATOM      4  O   SER P  71     -45.455   2.818   7.648  1.00 54.49\n",
        "# ATOM      5  CB  SER P  71     -45.511  -0.764   8.600  1.00 55.68\n",
        "# ATOM      6  OG  SER P  71     -46.116  -1.305   7.434  1.00 58.53\n",
        "# ATOM      7  N   GLY P  72     -44.347   1.018   6.868  1.00 46.18\n",
        "# ATOM      8  CA  GLY P  72     -43.702   1.805   5.836  1.00 38.59\n",
        "# ATOM      9  C   GLY P  72     -43.533   1.109   4.498  1.00 34.81\n",
        "# ATOM     10  O   GLY P  72     -44.500   0.739   3.827  1.00 32.75\n",
        "\n",
        "# According to this resource: https://www.cgl.ucsf.edu/chimera/docs/UsersGuide/tutorials/pdbintro.html\n",
        "# The atom names have\n",
        "# - the name of the atom (like N for nitrogen)\n",
        "# - something called the remoteness indicator code (A, B, G, D, E, Z, H)\n",
        "# - a branch indicator, if required"
      ]
    },
    {
      "cell_type": "code",
      "execution_count": null,
      "metadata": {},
      "outputs": [],
      "source": [
        "pdb_filename = \"../data/pdb_share/1a0gA02\"\n",
        "pdb_parser = Bio.PDB.PDBParser()\n",
        "structure = pdb_parser.get_structure(pdb_filename, pdb_filename)\n",
        "\n",
        "# Add the model and set the cartoon style\n",
        "name = \"TMP\"\n",
        "width = 300\n",
        "height = 300\n",
        "viewer = py3Dmol.view(query=f'arch: {name}, pdb: {pdb_filename}', width=width, height=height)\n",
        "viewer.addModel(open(pdb_filename, 'r').read(), 'pdb')\n",
        "viewer.setStyle({'cartoon': {'color': 'spectrum'}})\n",
        "viewer.zoomTo()\n",
        "dir(viewer.getModel())"
      ]
    },
    {
      "cell_type": "markdown",
      "metadata": {},
      "source": []
    },
    {
      "cell_type": "code",
      "execution_count": null,
      "metadata": {},
      "outputs": [],
      "source": [
        "import pywavefront\n",
        "scene = pywavefront.Wavefront(\"../data/obj/16pkA02.obj\")"
      ]
    },
    {
      "cell_type": "code",
      "execution_count": null,
      "metadata": {},
      "outputs": [],
      "source": [
        "scene"
      ]
    },
    {
      "cell_type": "code",
      "execution_count": null,
      "metadata": {},
      "outputs": [],
      "source": []
    }
  ],
  "metadata": {
    "colab": {
      "provenance": []
    },
    "kernelspec": {
      "display_name": "Python 3",
      "name": "python3"
    },
    "language_info": {
      "codemirror_mode": {
        "name": "ipython",
        "version": 3
      },
      "file_extension": ".py",
      "mimetype": "text/x-python",
      "name": "python",
      "nbconvert_exporter": "python",
      "pygments_lexer": "ipython3",
      "version": "3.11.7"
    }
  },
  "nbformat": 4,
  "nbformat_minor": 0
}
