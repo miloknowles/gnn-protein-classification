{
 "cells": [
  {
   "cell_type": "code",
   "execution_count": 5,
   "metadata": {},
   "outputs": [],
   "source": [
    "import sys\n",
    "import json\n",
    "import glob\n",
    "sys.path.append(\"..\")\n",
    "\n",
    "import pandas as pd\n",
    "import numpy as np\n",
    "import tqdm\n",
    "import torch_geometric\n",
    "\n",
    "from gvpgnn.datasets import ProteinGraphDataset, BatchSampler\n",
    "from gvpgnn.paths import data_folder"
   ]
  },
  {
   "cell_type": "code",
   "execution_count": 6,
   "metadata": {},
   "outputs": [
    {
     "name": "stdout",
     "output_type": "stream",
     "text": [
      "Dataset size: 3996\n"
     ]
    }
   ],
   "source": [
    "dataset_version = \"cleaned_skip_missing\"\n",
    "split_name = \"train\"\n",
    "\n",
    "dataset = ProteinGraphDataset(\n",
    "  data_folder(f\"{dataset_version}/{split_name}\"),\n",
    "  num_positional_embeddings=16,\n",
    "  top_k=30,\n",
    "  num_rbf=16,\n",
    "  device=\"cpu\"\n",
    ")\n",
    "\n",
    "print(\"Dataset size:\", len(dataset))\n",
    "\n",
    "# Make sure that we can iterate through the dataset:\n",
    "# for i in range(min(len(dataset), 3)):\n",
    "  # print(dataset[i])"
   ]
  },
  {
   "cell_type": "code",
   "execution_count": 21,
   "metadata": {},
   "outputs": [
    {
     "data": {
      "text/plain": [
       "Data(x=[132, 3], edge_index=[2, 3960], seq=[132], name='4nleA02', task_label=0, node_s=[132, 326], node_v=[132, 3, 3], edge_s=[3960, 32], edge_v=[3960, 1, 3], mask=[132])"
      ]
     },
     "execution_count": 21,
     "metadata": {},
     "output_type": "execute_result"
    }
   ],
   "source": [
    "dataset[0]"
   ]
  },
  {
   "cell_type": "code",
   "execution_count": null,
   "metadata": {},
   "outputs": [],
   "source": [
    "sampler = BatchSampler(\n",
    "  dataset.node_counts,\n",
    "  max_nodes=3000,\n",
    "  sampler_weights=dataset.sampler_weights\n",
    ")\n",
    "\n",
    "dataloader = torch_geometric.loader.DataLoader(\n",
    "  dataset,\n",
    "  num_workers=1,\n",
    "  batch_sampler=sampler,\n",
    ")\n",
    "\n",
    "N = 1\n",
    "label_freq = np.zeros(10)\n",
    "\n",
    "for i, batch in enumerate(dataloader):\n",
    "  print(i)\n",
    "  if i > N:\n",
    "    break\n",
    "  batch_labels = batch.task_label.numpy()\n",
    "  for label in batch_labels:\n",
    "    label_freq[label] += 1"
   ]
  },
  {
   "cell_type": "code",
   "execution_count": null,
   "metadata": {},
   "outputs": [],
   "source": [
    "label_freq / label_freq.sum()"
   ]
  },
  {
   "cell_type": "code",
   "execution_count": null,
   "metadata": {},
   "outputs": [],
   "source": []
  }
 ],
 "metadata": {
  "kernelspec": {
   "display_name": "cath-proteins-q1ibxFh1",
   "language": "python",
   "name": "python3"
  },
  "language_info": {
   "codemirror_mode": {
    "name": "ipython",
    "version": 3
   },
   "file_extension": ".py",
   "mimetype": "text/x-python",
   "name": "python",
   "nbconvert_exporter": "python",
   "pygments_lexer": "ipython3",
   "version": "3.11.7"
  }
 },
 "nbformat": 4,
 "nbformat_minor": 2
}
