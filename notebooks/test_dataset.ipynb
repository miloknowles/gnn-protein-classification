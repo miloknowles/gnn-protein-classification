{
 "cells": [
  {
   "cell_type": "code",
   "execution_count": 7,
   "metadata": {},
   "outputs": [],
   "source": [
    "import sys\n",
    "import json\n",
    "import glob\n",
    "sys.path.append(\"..\")\n",
    "\n",
    "import pandas as pd\n",
    "import numpy as np\n",
    "import tqdm\n",
    "import torch_geometric\n",
    "\n",
    "from gvpgnn.datasets import ProteinGraphDataset, BatchSampler\n",
    "from gvpgnn.paths import data_folder"
   ]
  },
  {
   "cell_type": "code",
   "execution_count": 2,
   "metadata": {},
   "outputs": [
    {
     "name": "stdout",
     "output_type": "stream",
     "text": [
      "Dataset size: 3996\n",
      "Data(x=[132, 3], edge_index=[2, 3960], seq=[132], name='4nleA02', task_label=0, node_s=[132, 326], node_v=[132, 3, 3], edge_s=[3960, 32], edge_v=[3960, 1, 3], mask=[132])\n",
      "Data(x=[206, 3], edge_index=[2, 6180], seq=[206], name='1vkyB01', task_label=8, node_s=[206, 326], node_v=[206, 3, 3], edge_s=[6180, 32], edge_v=[6180, 1, 3], mask=[206])\n",
      "Data(x=[96, 3], edge_index=[2, 2880], seq=[96], name='2gwnA01', task_label=2, node_s=[96, 326], node_v=[96, 3, 3], edge_s=[2880, 32], edge_v=[2880, 1, 3], mask=[96])\n"
     ]
    }
   ],
   "source": [
    "dataset_version = \"cleaned_skip_missing\"\n",
    "split_name = \"train\"\n",
    "\n",
    "dataset = ProteinGraphDataset(\n",
    "  data_folder(f\"{dataset_version}/{split_name}\"),\n",
    "  num_positional_embeddings=16,\n",
    "  top_k=30,\n",
    "  num_rbf=16,\n",
    "  device=\"cpu\"\n",
    ")\n",
    "\n",
    "print(\"Dataset size:\", len(dataset))\n",
    "\n",
    "# Make sure that we can iterate through the dataset:\n",
    "for i in range(min(len(dataset), 3)):\n",
    "  print(dataset[i])"
   ]
  },
  {
   "cell_type": "code",
   "execution_count": null,
   "metadata": {},
   "outputs": [],
   "source": [
    "dataset.class_weights\n",
    "dataset.label_counts\n",
    "sum(dataset.label_counts)\n",
    "# len(dataset.node_counts)\n",
    "dataset.class_weights"
   ]
  },
  {
   "cell_type": "code",
   "execution_count": 19,
   "metadata": {},
   "outputs": [
    {
     "name": "stderr",
     "output_type": "stream",
     "text": [
      "/Users/miloknowles/envs/cath-proteins-q1ibxFh1/lib/python3.11/site-packages/torch_geometric/deprecation.py:22: UserWarning: 'data.DataLoader' is deprecated, use 'loader.DataLoader' instead\n",
      "  warnings.warn(out)\n"
     ]
    },
    {
     "name": "stdout",
     "output_type": "stream",
     "text": [
      "0\n",
      "1\n",
      "2\n",
      "3\n",
      "4\n",
      "5\n",
      "6\n",
      "7\n",
      "8\n",
      "9\n",
      "10\n",
      "11\n",
      "12\n",
      "13\n",
      "14\n",
      "15\n",
      "16\n",
      "17\n",
      "18\n",
      "19\n",
      "20\n",
      "21\n",
      "22\n",
      "23\n",
      "24\n",
      "25\n",
      "26\n",
      "27\n",
      "28\n",
      "29\n",
      "30\n",
      "31\n",
      "32\n",
      "33\n",
      "34\n",
      "35\n",
      "36\n",
      "37\n",
      "38\n",
      "39\n",
      "40\n",
      "41\n",
      "42\n",
      "43\n",
      "44\n",
      "45\n",
      "46\n",
      "47\n",
      "48\n",
      "49\n",
      "50\n",
      "51\n",
      "52\n",
      "53\n",
      "54\n",
      "55\n",
      "56\n",
      "57\n",
      "58\n",
      "59\n",
      "60\n",
      "61\n",
      "62\n",
      "63\n",
      "64\n",
      "65\n",
      "66\n",
      "67\n",
      "68\n",
      "69\n",
      "70\n",
      "71\n",
      "72\n",
      "73\n",
      "74\n",
      "75\n",
      "76\n",
      "77\n",
      "78\n",
      "79\n",
      "80\n",
      "81\n",
      "82\n",
      "83\n",
      "84\n",
      "85\n",
      "86\n",
      "87\n",
      "88\n",
      "89\n",
      "90\n",
      "91\n",
      "92\n",
      "93\n",
      "94\n",
      "95\n",
      "96\n",
      "97\n",
      "98\n",
      "99\n",
      "100\n",
      "101\n"
     ]
    }
   ],
   "source": [
    "sampler = BatchSampler(\n",
    "  dataset.node_counts,\n",
    "  max_nodes=3000,\n",
    "  sampler_weights=dataset.sampler_weights\n",
    ")\n",
    "\n",
    "dataloader = torch_geometric.data.DataLoader(\n",
    "  dataset,\n",
    "  num_workers=1,\n",
    "  batch_sampler=sampler,\n",
    ")\n",
    "\n",
    "N = 100\n",
    "label_freq = np.zeros(10)\n",
    "\n",
    "for i, batch in enumerate(dataloader):\n",
    "  print(i)\n",
    "  if i > N:\n",
    "    break\n",
    "  batch_labels = batch.task_label.numpy()\n",
    "  for label in batch_labels:\n",
    "    label_freq[label] += 1"
   ]
  },
  {
   "cell_type": "code",
   "execution_count": 20,
   "metadata": {},
   "outputs": [
    {
     "data": {
      "text/plain": [
       "array([0.09928717, 0.09725051, 0.10285132, 0.10285132, 0.09368635,\n",
       "       0.10743381, 0.09521385, 0.09775967, 0.10183299, 0.10183299])"
      ]
     },
     "execution_count": 20,
     "metadata": {},
     "output_type": "execute_result"
    }
   ],
   "source": [
    "label_freq / label_freq.sum()"
   ]
  },
  {
   "cell_type": "code",
   "execution_count": null,
   "metadata": {},
   "outputs": [],
   "source": []
  }
 ],
 "metadata": {
  "kernelspec": {
   "display_name": "cath-proteins-q1ibxFh1",
   "language": "python",
   "name": "python3"
  },
  "language_info": {
   "codemirror_mode": {
    "name": "ipython",
    "version": 3
   },
   "file_extension": ".py",
   "mimetype": "text/x-python",
   "name": "python",
   "nbconvert_exporter": "python",
   "pygments_lexer": "ipython3",
   "version": "3.11.7"
  }
 },
 "nbformat": 4,
 "nbformat_minor": 2
}
