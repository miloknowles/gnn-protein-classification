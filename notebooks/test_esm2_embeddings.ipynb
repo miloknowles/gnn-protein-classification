{
 "cells": [
  {
   "cell_type": "code",
   "execution_count": null,
   "metadata": {},
   "outputs": [],
   "source": [
    "# https://github.com/facebookresearch/esm/blob/main/README.md\n",
    "import torch\n",
    "import esm\n",
    "\n",
    "import sys; sys.path.append(\"..\")"
   ]
  },
  {
   "cell_type": "code",
   "execution_count": null,
   "metadata": {},
   "outputs": [],
   "source": [
    "# Load an ESM-2 model - note that many different model sizes are available!\n",
    "\n",
    "# ** 650M parameters **\n",
    "# This model checkpoint is about 2.4 GB, and the embeddings can be retrieved from layer #33.\n",
    "# Embeddings are 1280-dimensional.\n",
    "# model, alphabet = esm.pretrained.esm2_t33_650M_UR50D() # from README\n",
    "# model_repr_layer = 33\n",
    "\n",
    "# ** 35M parameters **\n",
    "# This model checkpoint is about 128 MB, and the embeddings are also from layer #12.\n",
    "# Embeddings are 480-dimensional.\n",
    "# model, alphabet = esm.pretrained.esm2_t12_35M_UR50D() # smallest \n",
    "# model_repr_layer = 12\n",
    "\n",
    "# ** 8M parameters **\n",
    "# This model checkpoint is about 29 MB, and the embeddings are also from layer #6.\n",
    "# Embeddings are 320-dimensional.\n",
    "model, alphabet = esm.pretrained.esm2_t6_8M_UR50D() # smallest \n",
    "model_repr_layer = 6\n",
    "\n",
    "batch_converter = alphabet.get_batch_converter()\n",
    "model.eval()  # disables dropout for deterministic results"
   ]
  },
  {
   "cell_type": "code",
   "execution_count": null,
   "metadata": {},
   "outputs": [],
   "source": [
    "# Prepare data (first 2 sequences from ESMStructuralSplitDataset superfamily / 4)\n",
    "# data = [\n",
    "#     (\"protein1\", \"MKTVRQERLKSIVRILERSKEPVSGAQLAEELSVSRQVIVQDIAYLRSLGYNIVATPRGYVLAGG\"),\n",
    "#     (\"protein2\", \"KALTARQQEVFDLIRDHISQTGMPPTRAEIAQRLGFRSPNAAEEHLKALARKGVIEIVSGASRGIRLLQEE\"),\n",
    "#     (\"protein2 with mask\",\"KALTARQQEVFDLIRD<mask>ISQTGMPPTRAEIAQRLGFRSPNAAEEHLKALARKGVIEIVSGASRGIRLLQEE\"),\n",
    "#     (\"protein3\",  \"K A <mask> I S Q\"),\n",
    "# ]\n",
    "\n",
    "data = [\n",
    "    (\"protein1\", \"MKTVRQERLKSIVRILE\"),\n",
    "    (\"protein2\", \"KALTARQQEVFDLIRDH\"),\n",
    "]\n",
    "\n",
    "batch_converter = alphabet.get_batch_converter()\n",
    "\n",
    "batch_labels, batch_strs, batch_tokens = batch_converter(data)\n",
    "batch_lens = (batch_tokens != alphabet.padding_idx).sum(1)\n",
    "\n",
    "alphabet.all_toks\n",
    "# batch_tokens"
   ]
  },
  {
   "cell_type": "code",
   "execution_count": null,
   "metadata": {},
   "outputs": [],
   "source": [
    "# Extract per-residue representations (on CPU)\n",
    "with torch.no_grad():\n",
    "    results = model(batch_tokens, repr_layers=[model_repr_layer], return_contacts=True)\n",
    "token_representations = results[\"representations\"][model_repr_layer]\n",
    "token_representations[0].shape\n",
    "\n",
    "token_representations[:, 0, :10]"
   ]
  },
  {
   "cell_type": "code",
   "execution_count": null,
   "metadata": {},
   "outputs": [],
   "source": [
    "# Generate per-sequence representations via averaging\n",
    "# NOTE: token 0 is always a beginning-of-sequence token, so the first residue is token 1.\n",
    "sequence_representations = []\n",
    "for i, tokens_len in enumerate(batch_lens):\n",
    "    sequence_representations.append(token_representations[i, 1 : tokens_len - 1].mean(0))\n",
    "\n",
    "# NOTE(milo): This model produces 1280-dimensional embeddings.\n",
    "sequence_representations[0].shape"
   ]
  },
  {
   "cell_type": "code",
   "execution_count": null,
   "metadata": {},
   "outputs": [],
   "source": [
    "# Look at the unsupervised self-attention map contact predictions\n",
    "import matplotlib.pyplot as plt\n",
    "for (_, seq), tokens_len, attention_contacts in zip(data, batch_lens, results[\"contacts\"]):\n",
    "    plt.matshow(attention_contacts[: tokens_len, : tokens_len])\n",
    "    plt.title(seq)\n",
    "    plt.show()"
   ]
  },
  {
   "cell_type": "code",
   "execution_count": null,
   "metadata": {},
   "outputs": [],
   "source": [
    "import gvpgnn.embeddings as embeddings"
   ]
  },
  {
   "cell_type": "code",
   "execution_count": null,
   "metadata": {},
   "outputs": [],
   "source": [
    "model_factory = embeddings.esm2_model_dictionary[\"esm2_t6_8M_UR50D\"]\n",
    "layer = embeddings.esm2_embedding_layer[\"esm2_t6_8M_UR50D\"]\n",
    "\n",
    "model, alphabet = model_factory()\n",
    "\n",
    "seq = \"MKTVRQERLKSIVRILERSKEPVSGAQLAEELSVSRQVIVQDIAYLRSLGYNIVATPRGYVLAGG<unk>\"\n",
    "out = embeddings.extract_embedding_single(model, alphabet, layer, seq)\n",
    "\n",
    "# out.shape\n",
    "print(out.shape)\n",
    "print(len(seq))\n",
    "\n",
    "out"
   ]
  },
  {
   "cell_type": "code",
   "execution_count": null,
   "metadata": {},
   "outputs": [],
   "source": []
  }
 ],
 "metadata": {
  "kernelspec": {
   "display_name": "cath-proteins-q1ibxFh1",
   "language": "python",
   "name": "python3"
  },
  "language_info": {
   "codemirror_mode": {
    "name": "ipython",
    "version": 3
   },
   "file_extension": ".py",
   "mimetype": "text/x-python",
   "name": "python",
   "nbconvert_exporter": "python",
   "pygments_lexer": "ipython3",
   "version": "3.11.7"
  }
 },
 "nbformat": 4,
 "nbformat_minor": 2
}
