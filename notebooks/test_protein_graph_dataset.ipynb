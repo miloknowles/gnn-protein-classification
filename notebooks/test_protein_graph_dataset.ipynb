{
 "cells": [
  {
   "cell_type": "code",
   "execution_count": 1,
   "metadata": {},
   "outputs": [
    {
     "name": "stderr",
     "output_type": "stream",
     "text": [
      "/var/folders/0z/fnhwmrr91f362mk6_bndszhw0000gn/T/ipykernel_34724/3794370385.py:6: DeprecationWarning: \n",
      "Pyarrow will become a required dependency of pandas in the next major release of pandas (pandas 3.0),\n",
      "(to allow more performant data types, such as the Arrow string type, and better interoperability with other libraries)\n",
      "but was not found to be installed on your system.\n",
      "If this would cause problems for you,\n",
      "please provide us feedback at https://github.com/pandas-dev/pandas/issues/54466\n",
      "        \n",
      "  import pandas as pd\n"
     ]
    }
   ],
   "source": [
    "import sys\n",
    "import json\n",
    "import glob\n",
    "sys.path.append(\"..\")\n",
    "\n",
    "import pandas as pd\n",
    "import tqdm\n",
    "import torch_geometric\n",
    "\n",
    "from gvpgnn.datasets import ProteinGraphDataset, BatchSampler\n",
    "from gvpgnn.datamodels import BackboneModel\n",
    "from gvpgnn.paths import data_folder"
   ]
  },
  {
   "cell_type": "code",
   "execution_count": 2,
   "metadata": {},
   "outputs": [
    {
     "name": "stdout",
     "output_type": "stream",
     "text": [
      "Dataset size: 3996\n",
      "Data(x=[132, 3], edge_index=[2, 3960], seq=[132], name='4nleA02', task_label=0, node_s=[132, 6], node_v=[132, 3, 3], edge_s=[3960, 32], edge_v=[3960, 1, 3], mask=[132])\n",
      "Data(x=[206, 3], edge_index=[2, 6180], seq=[206], name='1vkyB01', task_label=8, node_s=[206, 6], node_v=[206, 3, 3], edge_s=[6180, 32], edge_v=[6180, 1, 3], mask=[206])\n",
      "Data(x=[96, 3], edge_index=[2, 2880], seq=[96], name='2gwnA01', task_label=2, node_s=[96, 6], node_v=[96, 3, 3], edge_s=[2880, 32], edge_v=[2880, 1, 3], mask=[96])\n"
     ]
    },
    {
     "name": "stderr",
     "output_type": "stream",
     "text": [
      "/Users/miloknowles/code/cath-proteins/notebooks/../gvpgnn/datasets.py:170: UserWarning: Using torch.cross without specifying the dim arg is deprecated.\n",
      "Please either pass the dim explicitly or simply use torch.linalg.cross.\n",
      "The default value of dim will change to agree with that of linalg.cross in a future release. (Triggered internally at /Users/runner/work/pytorch/pytorch/pytorch/aten/src/ATen/native/Cross.cpp:67.)\n",
      "  n_2 = _normalize(torch.cross(u_2, u_1), dim=-1)\n"
     ]
    }
   ],
   "source": [
    "dataset_version = \"cleaned_skip_missing\"\n",
    "split_name = \"train\"\n",
    "\n",
    "dataset = ProteinGraphDataset(\n",
    "  data_folder(f\"{dataset_version}/{split_name}\"),\n",
    "  num_positional_embeddings=16,\n",
    "  top_k=30,\n",
    "  num_rbf=16,\n",
    "  device=\"cpu\"\n",
    ")\n",
    "\n",
    "print(\"Dataset size:\", len(dataset))\n",
    "\n",
    "# Make sure that we can iterate through the dataset:\n",
    "for i in range(min(len(dataset), 3)):\n",
    "  print(dataset[i])"
   ]
  },
  {
   "cell_type": "code",
   "execution_count": 3,
   "metadata": {},
   "outputs": [
    {
     "name": "stderr",
     "output_type": "stream",
     "text": [
      "/Users/miloknowles/envs/cath-proteins-q1ibxFh1/lib/python3.11/site-packages/torch_geometric/deprecation.py:22: UserWarning: 'data.DataLoader' is deprecated, use 'loader.DataLoader' instead\n",
      "  warnings.warn(out)\n",
      "  0%|          | 0/212 [00:00<?, ?it/s]"
     ]
    }
   ],
   "source": [
    "sampler = BatchSampler(\n",
    "  dataset.node_counts,\n",
    "  max_nodes=3000\n",
    ")\n",
    "\n",
    "dataloader = torch_geometric.data.DataLoader(\n",
    "  dataset,\n",
    "  num_workers=1,\n",
    "  batch_sampler=sampler,\n",
    ")\n",
    "\n",
    "t = tqdm.tqdm(dataloader)"
   ]
  },
  {
   "cell_type": "code",
   "execution_count": null,
   "metadata": {},
   "outputs": [],
   "source": []
  }
 ],
 "metadata": {
  "kernelspec": {
   "display_name": "cath-proteins-q1ibxFh1",
   "language": "python",
   "name": "python3"
  },
  "language_info": {
   "codemirror_mode": {
    "name": "ipython",
    "version": 3
   },
   "file_extension": ".py",
   "mimetype": "text/x-python",
   "name": "python",
   "nbconvert_exporter": "python",
   "pygments_lexer": "ipython3",
   "version": "3.11.7"
  }
 },
 "nbformat": 4,
 "nbformat_minor": 2
}
