{
 "cells": [
  {
   "cell_type": "code",
   "execution_count": null,
   "metadata": {},
   "outputs": [],
   "source": [
    "import sys\n",
    "import json\n",
    "import glob\n",
    "sys.path.append(\"..\")\n",
    "\n",
    "import pandas as pd\n",
    "import tqdm\n",
    "import torch_geometric\n",
    "\n",
    "from gvpgnn.datasets import ProteinGraphDataset, BatchSampler\n",
    "from gvpgnn.datamodels import BackboneModel\n",
    "from gvpgnn.paths import data_folder"
   ]
  },
  {
   "cell_type": "code",
   "execution_count": null,
   "metadata": {},
   "outputs": [],
   "source": [
    "dataset_version = \"cleaned_skip_missing\"\n",
    "split_name = \"train\"\n",
    "\n",
    "dataset = ProteinGraphDataset(\n",
    "  data_folder(f\"{dataset_version}/{split_name}\"),\n",
    "  num_positional_embeddings=16,\n",
    "  top_k=30,\n",
    "  num_rbf=16,\n",
    "  device=\"cpu\"\n",
    ")\n",
    "\n",
    "print(\"Dataset size:\", len(dataset))\n",
    "\n",
    "# Make sure that we can iterate through the dataset:\n",
    "for i in range(min(len(dataset), 3)):\n",
    "  print(dataset[i])"
   ]
  },
  {
   "cell_type": "code",
   "execution_count": null,
   "metadata": {},
   "outputs": [],
   "source": [
    "sampler = BatchSampler(\n",
    "  dataset.node_counts,\n",
    "  max_nodes=3000\n",
    ")\n",
    "\n",
    "dataloader = torch_geometric.data.DataLoader(\n",
    "  dataset,\n",
    "  num_workers=1,\n",
    "  batch_sampler=sampler,\n",
    ")\n",
    "\n",
    "t = tqdm.tqdm(dataloader)"
   ]
  },
  {
   "cell_type": "code",
   "execution_count": null,
   "metadata": {},
   "outputs": [],
   "source": []
  }
 ],
 "metadata": {
  "kernelspec": {
   "display_name": "cath-proteins-q1ibxFh1",
   "language": "python",
   "name": "python3"
  },
  "language_info": {
   "codemirror_mode": {
    "name": "ipython",
    "version": 3
   },
   "file_extension": ".py",
   "mimetype": "text/x-python",
   "name": "python",
   "nbconvert_exporter": "python",
   "pygments_lexer": "ipython3",
   "version": "3.11.7"
  }
 },
 "nbformat": 4,
 "nbformat_minor": 2
}
