{
 "cells": [
  {
   "cell_type": "code",
   "execution_count": null,
   "metadata": {},
   "outputs": [],
   "source": [
    "import sys\n",
    "import json\n",
    "sys.path.append(\"..\")\n",
    "\n",
    "from plm_ggnn.datasets import ProteinGraphDataset\n",
    "from plm_ggnn.path_utils import data_folder, top_folder"
   ]
  },
  {
   "cell_type": "code",
   "execution_count": null,
   "metadata": {},
   "outputs": [],
   "source": [
    "# Instructions for formatting are here:\n",
    "# https://github.com/drorlab/gvp-pytorch/blob/main/README.md\n",
    "# An example dataset can be found in ts50.json\n",
    "with open(data_folder(\"ts50.json\"), \"r\") as f:\n",
    "  data_list = json.load(f)\n",
    "\n",
    "data_list"
   ]
  },
  {
   "cell_type": "code",
   "execution_count": null,
   "metadata": {},
   "outputs": [],
   "source": [
    "d = ProteinGraphDataset(\n",
    "  data_list,\n",
    "  num_positional_embeddings=16,\n",
    "  top_k=30,\n",
    "  num_rbf=16,\n",
    "  device=\"cpu\"\n",
    ")"
   ]
  },
  {
   "cell_type": "code",
   "execution_count": null,
   "metadata": {},
   "outputs": [],
   "source": [
    "print(d[0])"
   ]
  }
 ],
 "metadata": {
  "kernelspec": {
   "display_name": "cath-proteins-q1ibxFh1",
   "language": "python",
   "name": "python3"
  },
  "language_info": {
   "codemirror_mode": {
    "name": "ipython",
    "version": 3
   },
   "file_extension": ".py",
   "mimetype": "text/x-python",
   "name": "python",
   "nbconvert_exporter": "python",
   "pygments_lexer": "ipython3",
   "version": "3.11.7"
  }
 },
 "nbformat": 4,
 "nbformat_minor": 2
}
