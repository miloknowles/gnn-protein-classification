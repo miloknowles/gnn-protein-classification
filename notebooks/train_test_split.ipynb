{
 "cells": [
  {
   "cell_type": "markdown",
   "metadata": {},
   "source": [
    "# Train/Test/Validation Splitting\n",
    "\n",
    "This notebook was used to split the data for training, validation, and testing."
   ]
  },
  {
   "cell_type": "code",
   "execution_count": null,
   "metadata": {},
   "outputs": [],
   "source": [
    "import sys; sys.path.append(\"..\")\n",
    "\n",
    "import pandas as pd\n",
    "import plotly.express as px\n",
    "\n",
    "import Bio.PDB.PDBParser\n",
    "from Bio.PDB.Polypeptide import protein_letters_3to1\n",
    "\n",
    "import gvpgnn.paths as paths\n",
    "import gvpgnn.data_models as dm"
   ]
  },
  {
   "cell_type": "code",
   "execution_count": null,
   "metadata": {},
   "outputs": [],
   "source": [
    "# Open the training data sequences and structure\n",
    "df = pd.read_csv('../data/cath_w_seqs_share.csv', index_col=0)"
   ]
  },
  {
   "cell_type": "markdown",
   "metadata": {},
   "source": [
    "## What does the distribution of superfamilies look like?"
   ]
  },
  {
   "cell_type": "code",
   "execution_count": null,
   "metadata": {},
   "outputs": [],
   "source": [
    "# Analyze the number of shared homologous superfamilies.\n",
    "n_sf_unique = len(df.superfamily.unique())\n",
    "print(f\"In training set of size {len(df)}, there are {n_sf_unique} unique homologous superfamilies\")\n",
    "\n",
    "df[df.superfamily == 1]"
   ]
  },
  {
   "cell_type": "code",
   "execution_count": 40,
   "metadata": {},
   "outputs": [
    {
     "data": {
      "application/vnd.plotly.v1+json": {
       "config": {
        "plotlyServerURL": "https://plot.ly"
       },
       "data": [
        {
         "alignmentgroup": "True",
         "hovertemplate": "variable=members<br>superfamily=%{x}<br>value=%{y}<extra></extra>",
         "legendgroup": "members",
         "marker": {
          "color": "#636efa",
          "pattern": {
           "shape": ""
          }
         },
         "name": "members",
         "offsetgroup": "members",
         "orientation": "v",
         "showlegend": true,
         "textposition": "auto",
         "type": "bar",
         "x": [
          "1",
          "10",
          "11",
          "12",
          "20",
          "30",
          "40",
          "41",
          "50",
          "60",
          "70",
          "80",
          "90",
          "100",
          "105",
          "110",
          "120",
          "130",
          "140",
          "150",
          "160",
          "170",
          "180",
          "190",
          "200",
          "210",
          "220",
          "230",
          "240",
          "250",
          "260",
          "261",
          "270",
          "280",
          "290",
          "300",
          "310",
          "320",
          "330",
          "340",
          "350",
          "360",
          "370",
          "380",
          "390",
          "400",
          "410",
          "420",
          "430",
          "440",
          "450",
          "460",
          "470",
          "480",
          "490",
          "500",
          "510",
          "520",
          "530",
          "540",
          "550",
          "560",
          "570",
          "580",
          "590",
          "600",
          "610",
          "620",
          "630",
          "640",
          "650",
          "660",
          "670",
          "680",
          "690",
          "700",
          "710",
          "720",
          "730",
          "740",
          "750",
          "760",
          "770",
          "780",
          "790",
          "800",
          "810",
          "820",
          "830",
          "840",
          "850",
          "860",
          "870",
          "880",
          "890",
          "900",
          "910",
          "920",
          "930",
          "940",
          "950",
          "960",
          "970",
          "980",
          "990",
          "1000",
          "1010",
          "1020",
          "1030",
          "1040",
          "1050",
          "1060",
          "1070",
          "1080",
          "1090",
          "1100",
          "1110",
          "1120",
          "1130",
          "1140",
          "1150",
          "1160",
          "1170",
          "1180",
          "1190",
          "1200",
          "1210",
          "1220",
          "1230",
          "1240",
          "1250",
          "1260",
          "1270",
          "1280",
          "1290",
          "1300",
          "1310",
          "1320",
          "1330",
          "1340",
          "1350",
          "1360",
          "1370",
          "1380",
          "1390",
          "1400",
          "1410",
          "1420",
          "1430",
          "1440",
          "1450",
          "1460",
          "1470",
          "1480",
          "1490",
          "1500",
          "1510",
          "1520",
          "1530",
          "1540",
          "1550",
          "1560",
          "1570",
          "1580",
          "1590",
          "1600",
          "1610",
          "1620",
          "1630",
          "1640",
          "1650",
          "1660",
          "1670",
          "1680",
          "1690",
          "1700",
          "1710",
          "1720",
          "1730",
          "1740",
          "1760",
          "1770",
          "1780",
          "1790",
          "1800",
          "1810",
          "1820",
          "1830",
          "1840",
          "1850",
          "1860",
          "1870",
          "1880",
          "1890",
          "1910",
          "1920",
          "1930",
          "1940",
          "1950",
          "1960",
          "1970",
          "1980",
          "1990",
          "2000",
          "2010",
          "2020",
          "2030",
          "2040",
          "2050",
          "2060",
          "2070",
          "2080",
          "2090",
          "2100",
          "2110",
          "2120",
          "2130",
          "2140",
          "2150",
          "2160",
          "2170",
          "2180",
          "2190",
          "2200",
          "2210",
          "2220",
          "2230",
          "2240",
          "2250",
          "2260",
          "2270",
          "2280",
          "2290",
          "2300",
          "2310",
          "2320",
          "2330",
          "2340",
          "2360",
          "2380",
          "2390",
          "2400",
          "2420",
          "2430",
          "2440",
          "2450",
          "2460",
          "2470",
          "2480",
          "2490",
          "2500",
          "2510",
          "2520",
          "2530",
          "2540",
          "2550",
          "2560",
          "2570",
          "2580",
          "2590",
          "2600",
          "2610",
          "2620",
          "2630",
          "2640",
          "2650",
          "2660",
          "2670",
          "2680",
          "2690",
          "2700",
          "2710",
          "2720",
          "2730",
          "2740",
          "2750",
          "2760",
          "2770",
          "2790",
          "2800",
          "2810",
          "2820",
          "2830",
          "2840",
          "2850",
          "2860",
          "2870",
          "2880",
          "2890",
          "2910",
          "2920",
          "2940",
          "2950",
          "2960",
          "2970",
          "2980",
          "2990",
          "3000",
          "3020",
          "3030",
          "3040",
          "3050",
          "3060",
          "3070",
          "3080",
          "3090",
          "3100",
          "3110",
          "3120",
          "3130",
          "3140",
          "3160",
          "3170",
          "3180",
          "3190",
          "3200",
          "3210",
          "3220",
          "3230",
          "3240",
          "3250",
          "3260",
          "3270",
          "3280",
          "3290",
          "3300",
          "3310",
          "3320",
          "3340",
          "3350",
          "3360",
          "3380",
          "3390",
          "3400",
          "3410",
          "3420",
          "3430",
          "3440",
          "3450",
          "3460",
          "3480",
          "3490",
          "3500",
          "3510",
          "3520",
          "3530",
          "3540",
          "3550",
          "3560",
          "3570",
          "3580",
          "3590",
          "3600",
          "3620",
          "3630",
          "3640",
          "3650",
          "3670",
          "3680",
          "3690",
          "3700",
          "3710",
          "3720",
          "3730",
          "3740",
          "3750",
          "3760",
          "3770",
          "3780",
          "3790",
          "3800",
          "3810",
          "3830",
          "3850",
          "3870",
          "3890",
          "3900",
          "3910",
          "3920",
          "3930",
          "3940",
          "3950",
          "3960",
          "3970",
          "3980",
          "4010",
          "4030",
          "4050",
          "4060",
          "4070",
          "4100",
          "4110",
          "4120",
          "4130",
          "4140",
          "4150",
          "4170",
          "4190",
          "4200",
          "4230",
          "4270",
          "4280",
          "4290",
          "4300",
          "4310",
          "4320",
          "4330",
          "4340",
          "4350",
          "4360",
          "4370",
          "4380",
          "4390",
          "4400",
          "4520",
          "4570",
          "4730",
          "4770",
          "4820",
          "4980",
          "5160",
          "5200",
          "5260",
          "9100",
          "10010",
          "10050",
          "10070",
          "10090",
          "10130",
          "10140",
          "10150",
          "10160",
          "10170",
          "10190",
          "10210",
          "10220",
          "10230",
          "10260",
          "10280",
          "10300",
          "10310",
          "10320",
          "10330",
          "10350",
          "10360",
          "10380",
          "10390",
          "10400",
          "10420",
          "10440",
          "10470",
          "10480",
          "10490",
          "10580",
          "10590",
          "10600",
          "10610",
          "10620",
          "10630",
          "10640",
          "10660",
          "10670",
          "10680",
          "10690",
          "10700",
          "10710",
          "10720",
          "10730",
          "10740",
          "10760",
          "10770",
          "10780",
          "10800",
          "10810",
          "10820",
          "10830",
          "10840",
          "10850",
          "10860",
          "10870",
          "10880",
          "10890",
          "10900",
          "10910",
          "10920",
          "10940",
          "10950",
          "10990",
          "11010",
          "11030",
          "11040",
          "11050",
          "11060",
          "11070",
          "11080",
          "11090",
          "11100",
          "11120",
          "11140",
          "11160",
          "11170",
          "11180",
          "11190",
          "11200",
          "11210",
          "11220",
          "11240",
          "11250",
          "11260",
          "11270",
          "11290",
          "11300",
          "11310",
          "11320",
          "11340",
          "11350",
          "11370",
          "11380",
          "11390",
          "11400",
          "11410",
          "11440",
          "11460",
          "11480",
          "11490",
          "11500",
          "11530",
          "11540",
          "11550",
          "11570",
          "11600",
          "11610",
          "11650",
          "11660",
          "11680",
          "11690",
          "11700",
          "11710",
          "11720",
          "11730",
          "11740",
          "11750",
          "11770",
          "11810",
          "11820",
          "11830",
          "11840",
          "11850",
          "11860",
          "11880",
          "11890",
          "11900",
          "11920",
          "11940",
          "11950",
          "11960",
          "11970",
          "11980",
          "11990",
          "12020",
          "12030",
          "12050",
          "12080",
          "12090",
          "12100",
          "12110",
          "12120",
          "12140",
          "12150",
          "12160",
          "12170",
          "12180",
          "12190",
          "12230",
          "12240",
          "12280",
          "12350",
          "12360",
          "12370",
          "12380",
          "12390",
          "12420",
          "12430",
          "12440",
          "12500",
          "12550",
          "12570",
          "12580",
          "12590",
          "12600",
          "12610",
          "12620",
          "12640",
          "12650",
          "12660",
          "12670",
          "12690",
          "12710",
          "12760",
          "12780",
          "12790",
          "12800",
          "12810",
          "12820"
         ],
         "xaxis": "x",
         "y": [
          3,
          1799,
          3,
          6,
          401,
          292,
          196,
          1,
          121,
          110,
          146,
          131,
          91,
          76,
          2,
          78,
          143,
          40,
          157,
          41,
          33,
          48,
          39,
          48,
          30,
          37,
          39,
          39,
          28,
          20,
          18,
          2,
          16,
          19,
          19,
          29,
          30,
          16,
          23,
          22,
          20,
          20,
          37,
          19,
          19,
          12,
          13,
          13,
          15,
          12,
          21,
          14,
          12,
          15,
          9,
          11,
          13,
          13,
          9,
          11,
          6,
          11,
          11,
          12,
          9,
          7,
          10,
          11,
          9,
          10,
          11,
          10,
          11,
          8,
          14,
          15,
          13,
          12,
          11,
          17,
          8,
          10,
          7,
          10,
          12,
          8,
          9,
          7,
          8,
          9,
          7,
          7,
          10,
          9,
          7,
          7,
          4,
          6,
          7,
          6,
          4,
          7,
          4,
          5,
          7,
          7,
          5,
          10,
          6,
          7,
          4,
          8,
          7,
          6,
          6,
          3,
          6,
          7,
          6,
          3,
          7,
          5,
          7,
          6,
          9,
          5,
          9,
          8,
          7,
          9,
          6,
          9,
          5,
          4,
          7,
          6,
          4,
          4,
          3,
          4,
          4,
          5,
          4,
          7,
          8,
          6,
          4,
          3,
          6,
          7,
          8,
          6,
          5,
          7,
          4,
          5,
          6,
          7,
          5,
          3,
          3,
          3,
          3,
          3,
          4,
          4,
          7,
          6,
          5,
          1,
          4,
          6,
          3,
          5,
          8,
          9,
          2,
          3,
          5,
          3,
          6,
          4,
          6,
          4,
          3,
          2,
          2,
          3,
          3,
          2,
          7,
          2,
          4,
          3,
          7,
          3,
          5,
          5,
          5,
          3,
          8,
          2,
          3,
          2,
          2,
          5,
          5,
          4,
          4,
          3,
          4,
          4,
          4,
          4,
          3,
          3,
          4,
          1,
          3,
          2,
          4,
          1,
          3,
          4,
          4,
          4,
          4,
          4,
          5,
          2,
          2,
          2,
          1,
          3,
          1,
          5,
          2,
          4,
          2,
          3,
          2,
          1,
          2,
          1,
          4,
          1,
          2,
          5,
          4,
          1,
          2,
          2,
          2,
          2,
          2,
          1,
          2,
          1,
          4,
          2,
          1,
          2,
          5,
          4,
          1,
          2,
          2,
          2,
          1,
          3,
          2,
          3,
          3,
          1,
          2,
          2,
          1,
          4,
          1,
          1,
          1,
          1,
          1,
          3,
          1,
          2,
          1,
          1,
          1,
          3,
          3,
          2,
          1,
          1,
          1,
          1,
          1,
          2,
          2,
          1,
          2,
          2,
          1,
          3,
          3,
          2,
          2,
          2,
          3,
          2,
          1,
          3,
          2,
          3,
          1,
          2,
          1,
          2,
          2,
          1,
          2,
          2,
          1,
          2,
          1,
          1,
          2,
          2,
          2,
          1,
          2,
          1,
          1,
          2,
          1,
          2,
          1,
          2,
          2,
          2,
          2,
          3,
          2,
          4,
          1,
          3,
          3,
          2,
          1,
          2,
          1,
          2,
          2,
          2,
          1,
          1,
          1,
          1,
          1,
          2,
          2,
          2,
          1,
          3,
          1,
          1,
          1,
          1,
          1,
          1,
          2,
          2,
          1,
          1,
          1,
          1,
          1,
          2,
          1,
          1,
          1,
          1,
          4,
          1,
          1,
          2,
          2,
          1,
          1,
          3,
          2,
          1,
          1,
          3,
          1,
          2,
          1,
          1,
          1,
          1,
          2,
          2,
          3,
          3,
          2,
          1,
          1,
          1,
          1,
          1,
          1,
          1,
          1,
          1,
          1,
          1,
          1,
          1,
          1,
          1,
          1,
          2,
          1,
          2,
          1,
          2,
          1,
          2,
          2,
          2,
          2,
          1,
          2,
          1,
          2,
          1,
          2,
          2,
          1,
          2,
          2,
          2,
          1,
          1,
          1,
          2,
          1,
          1,
          2,
          2,
          2,
          2,
          1,
          2,
          2,
          1,
          2,
          1,
          1,
          2,
          2,
          1,
          1,
          1,
          2,
          2,
          1,
          1,
          2,
          1,
          2,
          1,
          2,
          2,
          1,
          1,
          1,
          1,
          1,
          1,
          2,
          2,
          2,
          1,
          1,
          1,
          2,
          2,
          1,
          2,
          1,
          2,
          1,
          1,
          1,
          1,
          1,
          2,
          1,
          1,
          1,
          1,
          1,
          1,
          1,
          1,
          1,
          1,
          2,
          2,
          1,
          1,
          1,
          1,
          2,
          2,
          1,
          2,
          1,
          1,
          1,
          2,
          2,
          1,
          1,
          1,
          1,
          1,
          2,
          1,
          1,
          1,
          1,
          1,
          1,
          1,
          1,
          2,
          1,
          1,
          1,
          1,
          1,
          1,
          1,
          1,
          1,
          1,
          1,
          1,
          1,
          1,
          1,
          1,
          1,
          1,
          1,
          2,
          1,
          1,
          1,
          1,
          1,
          2,
          2,
          1,
          1,
          1,
          1,
          1,
          1,
          1,
          1,
          1,
          2,
          1,
          1,
          1,
          2,
          1,
          1,
          1,
          1,
          1,
          2,
          1,
          1,
          1,
          1,
          1,
          2,
          1,
          1,
          2,
          1,
          1,
          1,
          1,
          1,
          1,
          1,
          1,
          1,
          1
         ],
         "yaxis": "y"
        }
       ],
       "layout": {
        "barmode": "relative",
        "legend": {
         "title": {
          "text": "variable"
         },
         "tracegroupgap": 0
        },
        "template": {
         "data": {
          "bar": [
           {
            "error_x": {
             "color": "#2a3f5f"
            },
            "error_y": {
             "color": "#2a3f5f"
            },
            "marker": {
             "line": {
              "color": "#E5ECF6",
              "width": 0.5
             },
             "pattern": {
              "fillmode": "overlay",
              "size": 10,
              "solidity": 0.2
             }
            },
            "type": "bar"
           }
          ],
          "barpolar": [
           {
            "marker": {
             "line": {
              "color": "#E5ECF6",
              "width": 0.5
             },
             "pattern": {
              "fillmode": "overlay",
              "size": 10,
              "solidity": 0.2
             }
            },
            "type": "barpolar"
           }
          ],
          "carpet": [
           {
            "aaxis": {
             "endlinecolor": "#2a3f5f",
             "gridcolor": "white",
             "linecolor": "white",
             "minorgridcolor": "white",
             "startlinecolor": "#2a3f5f"
            },
            "baxis": {
             "endlinecolor": "#2a3f5f",
             "gridcolor": "white",
             "linecolor": "white",
             "minorgridcolor": "white",
             "startlinecolor": "#2a3f5f"
            },
            "type": "carpet"
           }
          ],
          "choropleth": [
           {
            "colorbar": {
             "outlinewidth": 0,
             "ticks": ""
            },
            "type": "choropleth"
           }
          ],
          "contour": [
           {
            "colorbar": {
             "outlinewidth": 0,
             "ticks": ""
            },
            "colorscale": [
             [
              0,
              "#0d0887"
             ],
             [
              0.1111111111111111,
              "#46039f"
             ],
             [
              0.2222222222222222,
              "#7201a8"
             ],
             [
              0.3333333333333333,
              "#9c179e"
             ],
             [
              0.4444444444444444,
              "#bd3786"
             ],
             [
              0.5555555555555556,
              "#d8576b"
             ],
             [
              0.6666666666666666,
              "#ed7953"
             ],
             [
              0.7777777777777778,
              "#fb9f3a"
             ],
             [
              0.8888888888888888,
              "#fdca26"
             ],
             [
              1,
              "#f0f921"
             ]
            ],
            "type": "contour"
           }
          ],
          "contourcarpet": [
           {
            "colorbar": {
             "outlinewidth": 0,
             "ticks": ""
            },
            "type": "contourcarpet"
           }
          ],
          "heatmap": [
           {
            "colorbar": {
             "outlinewidth": 0,
             "ticks": ""
            },
            "colorscale": [
             [
              0,
              "#0d0887"
             ],
             [
              0.1111111111111111,
              "#46039f"
             ],
             [
              0.2222222222222222,
              "#7201a8"
             ],
             [
              0.3333333333333333,
              "#9c179e"
             ],
             [
              0.4444444444444444,
              "#bd3786"
             ],
             [
              0.5555555555555556,
              "#d8576b"
             ],
             [
              0.6666666666666666,
              "#ed7953"
             ],
             [
              0.7777777777777778,
              "#fb9f3a"
             ],
             [
              0.8888888888888888,
              "#fdca26"
             ],
             [
              1,
              "#f0f921"
             ]
            ],
            "type": "heatmap"
           }
          ],
          "heatmapgl": [
           {
            "colorbar": {
             "outlinewidth": 0,
             "ticks": ""
            },
            "colorscale": [
             [
              0,
              "#0d0887"
             ],
             [
              0.1111111111111111,
              "#46039f"
             ],
             [
              0.2222222222222222,
              "#7201a8"
             ],
             [
              0.3333333333333333,
              "#9c179e"
             ],
             [
              0.4444444444444444,
              "#bd3786"
             ],
             [
              0.5555555555555556,
              "#d8576b"
             ],
             [
              0.6666666666666666,
              "#ed7953"
             ],
             [
              0.7777777777777778,
              "#fb9f3a"
             ],
             [
              0.8888888888888888,
              "#fdca26"
             ],
             [
              1,
              "#f0f921"
             ]
            ],
            "type": "heatmapgl"
           }
          ],
          "histogram": [
           {
            "marker": {
             "pattern": {
              "fillmode": "overlay",
              "size": 10,
              "solidity": 0.2
             }
            },
            "type": "histogram"
           }
          ],
          "histogram2d": [
           {
            "colorbar": {
             "outlinewidth": 0,
             "ticks": ""
            },
            "colorscale": [
             [
              0,
              "#0d0887"
             ],
             [
              0.1111111111111111,
              "#46039f"
             ],
             [
              0.2222222222222222,
              "#7201a8"
             ],
             [
              0.3333333333333333,
              "#9c179e"
             ],
             [
              0.4444444444444444,
              "#bd3786"
             ],
             [
              0.5555555555555556,
              "#d8576b"
             ],
             [
              0.6666666666666666,
              "#ed7953"
             ],
             [
              0.7777777777777778,
              "#fb9f3a"
             ],
             [
              0.8888888888888888,
              "#fdca26"
             ],
             [
              1,
              "#f0f921"
             ]
            ],
            "type": "histogram2d"
           }
          ],
          "histogram2dcontour": [
           {
            "colorbar": {
             "outlinewidth": 0,
             "ticks": ""
            },
            "colorscale": [
             [
              0,
              "#0d0887"
             ],
             [
              0.1111111111111111,
              "#46039f"
             ],
             [
              0.2222222222222222,
              "#7201a8"
             ],
             [
              0.3333333333333333,
              "#9c179e"
             ],
             [
              0.4444444444444444,
              "#bd3786"
             ],
             [
              0.5555555555555556,
              "#d8576b"
             ],
             [
              0.6666666666666666,
              "#ed7953"
             ],
             [
              0.7777777777777778,
              "#fb9f3a"
             ],
             [
              0.8888888888888888,
              "#fdca26"
             ],
             [
              1,
              "#f0f921"
             ]
            ],
            "type": "histogram2dcontour"
           }
          ],
          "mesh3d": [
           {
            "colorbar": {
             "outlinewidth": 0,
             "ticks": ""
            },
            "type": "mesh3d"
           }
          ],
          "parcoords": [
           {
            "line": {
             "colorbar": {
              "outlinewidth": 0,
              "ticks": ""
             }
            },
            "type": "parcoords"
           }
          ],
          "pie": [
           {
            "automargin": true,
            "type": "pie"
           }
          ],
          "scatter": [
           {
            "fillpattern": {
             "fillmode": "overlay",
             "size": 10,
             "solidity": 0.2
            },
            "type": "scatter"
           }
          ],
          "scatter3d": [
           {
            "line": {
             "colorbar": {
              "outlinewidth": 0,
              "ticks": ""
             }
            },
            "marker": {
             "colorbar": {
              "outlinewidth": 0,
              "ticks": ""
             }
            },
            "type": "scatter3d"
           }
          ],
          "scattercarpet": [
           {
            "marker": {
             "colorbar": {
              "outlinewidth": 0,
              "ticks": ""
             }
            },
            "type": "scattercarpet"
           }
          ],
          "scattergeo": [
           {
            "marker": {
             "colorbar": {
              "outlinewidth": 0,
              "ticks": ""
             }
            },
            "type": "scattergeo"
           }
          ],
          "scattergl": [
           {
            "marker": {
             "colorbar": {
              "outlinewidth": 0,
              "ticks": ""
             }
            },
            "type": "scattergl"
           }
          ],
          "scattermapbox": [
           {
            "marker": {
             "colorbar": {
              "outlinewidth": 0,
              "ticks": ""
             }
            },
            "type": "scattermapbox"
           }
          ],
          "scatterpolar": [
           {
            "marker": {
             "colorbar": {
              "outlinewidth": 0,
              "ticks": ""
             }
            },
            "type": "scatterpolar"
           }
          ],
          "scatterpolargl": [
           {
            "marker": {
             "colorbar": {
              "outlinewidth": 0,
              "ticks": ""
             }
            },
            "type": "scatterpolargl"
           }
          ],
          "scatterternary": [
           {
            "marker": {
             "colorbar": {
              "outlinewidth": 0,
              "ticks": ""
             }
            },
            "type": "scatterternary"
           }
          ],
          "surface": [
           {
            "colorbar": {
             "outlinewidth": 0,
             "ticks": ""
            },
            "colorscale": [
             [
              0,
              "#0d0887"
             ],
             [
              0.1111111111111111,
              "#46039f"
             ],
             [
              0.2222222222222222,
              "#7201a8"
             ],
             [
              0.3333333333333333,
              "#9c179e"
             ],
             [
              0.4444444444444444,
              "#bd3786"
             ],
             [
              0.5555555555555556,
              "#d8576b"
             ],
             [
              0.6666666666666666,
              "#ed7953"
             ],
             [
              0.7777777777777778,
              "#fb9f3a"
             ],
             [
              0.8888888888888888,
              "#fdca26"
             ],
             [
              1,
              "#f0f921"
             ]
            ],
            "type": "surface"
           }
          ],
          "table": [
           {
            "cells": {
             "fill": {
              "color": "#EBF0F8"
             },
             "line": {
              "color": "white"
             }
            },
            "header": {
             "fill": {
              "color": "#C8D4E3"
             },
             "line": {
              "color": "white"
             }
            },
            "type": "table"
           }
          ]
         },
         "layout": {
          "annotationdefaults": {
           "arrowcolor": "#2a3f5f",
           "arrowhead": 0,
           "arrowwidth": 1
          },
          "autotypenumbers": "strict",
          "coloraxis": {
           "colorbar": {
            "outlinewidth": 0,
            "ticks": ""
           }
          },
          "colorscale": {
           "diverging": [
            [
             0,
             "#8e0152"
            ],
            [
             0.1,
             "#c51b7d"
            ],
            [
             0.2,
             "#de77ae"
            ],
            [
             0.3,
             "#f1b6da"
            ],
            [
             0.4,
             "#fde0ef"
            ],
            [
             0.5,
             "#f7f7f7"
            ],
            [
             0.6,
             "#e6f5d0"
            ],
            [
             0.7,
             "#b8e186"
            ],
            [
             0.8,
             "#7fbc41"
            ],
            [
             0.9,
             "#4d9221"
            ],
            [
             1,
             "#276419"
            ]
           ],
           "sequential": [
            [
             0,
             "#0d0887"
            ],
            [
             0.1111111111111111,
             "#46039f"
            ],
            [
             0.2222222222222222,
             "#7201a8"
            ],
            [
             0.3333333333333333,
             "#9c179e"
            ],
            [
             0.4444444444444444,
             "#bd3786"
            ],
            [
             0.5555555555555556,
             "#d8576b"
            ],
            [
             0.6666666666666666,
             "#ed7953"
            ],
            [
             0.7777777777777778,
             "#fb9f3a"
            ],
            [
             0.8888888888888888,
             "#fdca26"
            ],
            [
             1,
             "#f0f921"
            ]
           ],
           "sequentialminus": [
            [
             0,
             "#0d0887"
            ],
            [
             0.1111111111111111,
             "#46039f"
            ],
            [
             0.2222222222222222,
             "#7201a8"
            ],
            [
             0.3333333333333333,
             "#9c179e"
            ],
            [
             0.4444444444444444,
             "#bd3786"
            ],
            [
             0.5555555555555556,
             "#d8576b"
            ],
            [
             0.6666666666666666,
             "#ed7953"
            ],
            [
             0.7777777777777778,
             "#fb9f3a"
            ],
            [
             0.8888888888888888,
             "#fdca26"
            ],
            [
             1,
             "#f0f921"
            ]
           ]
          },
          "colorway": [
           "#636efa",
           "#EF553B",
           "#00cc96",
           "#ab63fa",
           "#FFA15A",
           "#19d3f3",
           "#FF6692",
           "#B6E880",
           "#FF97FF",
           "#FECB52"
          ],
          "font": {
           "color": "#2a3f5f"
          },
          "geo": {
           "bgcolor": "white",
           "lakecolor": "white",
           "landcolor": "#E5ECF6",
           "showlakes": true,
           "showland": true,
           "subunitcolor": "white"
          },
          "hoverlabel": {
           "align": "left"
          },
          "hovermode": "closest",
          "mapbox": {
           "style": "light"
          },
          "paper_bgcolor": "white",
          "plot_bgcolor": "#E5ECF6",
          "polar": {
           "angularaxis": {
            "gridcolor": "white",
            "linecolor": "white",
            "ticks": ""
           },
           "bgcolor": "#E5ECF6",
           "radialaxis": {
            "gridcolor": "white",
            "linecolor": "white",
            "ticks": ""
           }
          },
          "scene": {
           "xaxis": {
            "backgroundcolor": "#E5ECF6",
            "gridcolor": "white",
            "gridwidth": 2,
            "linecolor": "white",
            "showbackground": true,
            "ticks": "",
            "zerolinecolor": "white"
           },
           "yaxis": {
            "backgroundcolor": "#E5ECF6",
            "gridcolor": "white",
            "gridwidth": 2,
            "linecolor": "white",
            "showbackground": true,
            "ticks": "",
            "zerolinecolor": "white"
           },
           "zaxis": {
            "backgroundcolor": "#E5ECF6",
            "gridcolor": "white",
            "gridwidth": 2,
            "linecolor": "white",
            "showbackground": true,
            "ticks": "",
            "zerolinecolor": "white"
           }
          },
          "shapedefaults": {
           "line": {
            "color": "#2a3f5f"
           }
          },
          "ternary": {
           "aaxis": {
            "gridcolor": "white",
            "linecolor": "white",
            "ticks": ""
           },
           "baxis": {
            "gridcolor": "white",
            "linecolor": "white",
            "ticks": ""
           },
           "bgcolor": "#E5ECF6",
           "caxis": {
            "gridcolor": "white",
            "linecolor": "white",
            "ticks": ""
           }
          },
          "title": {
           "x": 0.05
          },
          "xaxis": {
           "automargin": true,
           "gridcolor": "white",
           "linecolor": "white",
           "ticks": "",
           "title": {
            "standoff": 15
           },
           "zerolinecolor": "white",
           "zerolinewidth": 2
          },
          "yaxis": {
           "automargin": true,
           "gridcolor": "white",
           "linecolor": "white",
           "ticks": "",
           "title": {
            "standoff": 15
           },
           "zerolinecolor": "white",
           "zerolinewidth": 2
          }
         }
        },
        "title": {
         "text": "Members of each homologous superfamily in the dataset"
        },
        "xaxis": {
         "anchor": "y",
         "domain": [
          0,
          1
         ],
         "title": {
          "text": "superfamily"
         }
        },
        "yaxis": {
         "anchor": "x",
         "domain": [
          0,
          1
         ],
         "title": {
          "text": "value"
         }
        }
       }
      }
     },
     "metadata": {},
     "output_type": "display_data"
    }
   ],
   "source": [
    "df_sf_counts = df.groupby(by=\"superfamily\").size()\n",
    "\n",
    "df_sf_counts.index = df_sf_counts.index.astype(\"str\") # convert to categorical index\n",
    "df_sf_counts.name = \"members\"\n",
    "\n",
    "# Show as a column chart:\n",
    "fig = px.bar(df_sf_counts, title=\"Members of each homologous superfamily in the dataset\")\n",
    "fig.show()\n",
    "\n",
    "# Show as a pie chart:\n",
    "# fig = px.pie(df_sf_counts.to_frame(), values=\"members\", title=\"Members of each homologous superfamily in the dataset\")\n",
    "# fig.show()"
   ]
  },
  {
   "cell_type": "markdown",
   "metadata": {},
   "source": [
    "## Dataset Splitting Strategy\n",
    "\n",
    "- We want to avoid splitting homologous superfamilies across the training and test splits, since this would allow the model to train on examples that are closely related to those in the test set.\n",
    "- The simplest solution I can think of is to choose superfamilies to put in the test set, and not let the model see any examples from those families in the training set.\n",
    "- The question is whether we want more diversity in the training set or test set? There are a few huge superfamilies, like `10` which is the largest (about `28.7%` of examples belong to it). So whichever split has those huge families will get a bit less variety.\n",
    "- My initial decision is to fill up the test set with small superfamilies to maximize the diversity there. We want to see how the model generalizes to many different unseen superfamilies, and I'm guessing that's how this work task will be evaluated."
   ]
  },
  {
   "cell_type": "code",
   "execution_count": 38,
   "metadata": {},
   "outputs": [
    {
     "name": "stdout",
     "output_type": "stream",
     "text": [
      "\n",
      "-- NOMINAL SPLITS:\n",
      "Dataset size: 6273\n",
      "test: 1255\n",
      "train: 4014\n",
      "val: 1004\n",
      "\n",
      "-- ACTUAL SPLITS:\n",
      "test: 1261\n",
      "val: 1016\n",
      "train: 3996\n",
      "(Note: Due to the size of superfamilies, the actual splits may be slightly different in size.)\n"
     ]
    }
   ],
   "source": [
    "fraction_test = 0.2 # of the entire set\n",
    "fraction_val = 0.2 # of the REMAINING training set\n",
    "\n",
    "n_test = round(len(df) * fraction_test)\n",
    "n_training = len(df) - n_test\n",
    "n_val = round(n_training * fraction_val)\n",
    "n_train = n_training - n_val\n",
    "\n",
    "print(\"\\n-- NOMINAL SPLITS:\")\n",
    "print(\"Dataset size:\", len(df))\n",
    "print(\"test:\", n_test)\n",
    "print(\"train:\", n_train)\n",
    "print(\"val:\", n_val)\n",
    "\n",
    "sf_count_low_to_high: list[tuple[int, int]] = \\\n",
    "  sorted(df.groupby(by=\"superfamily\").size().to_dict().items(), key=lambda x: x[1])\n",
    "\n",
    "split_superfamilies = dict(train=[], val=[], test=[])\n",
    "split_counts = dict(train=0, val=0, test=0)\n",
    "\n",
    "idx = 0\n",
    "\n",
    "# Build the test set first so that it receives many small superfamilies.\n",
    "while split_counts[\"test\"] < n_test:\n",
    "  sf, count = sf_count_low_to_high[idx]\n",
    "  split_superfamilies[\"test\"].append(sf)\n",
    "  split_counts[\"test\"] += count\n",
    "  idx += 1\n",
    "\n",
    "# Then build the validation set, which we also want to have a diverse set of families.\n",
    "while split_counts[\"val\"] < n_val:\n",
    "  sf, count = sf_count_low_to_high[idx]\n",
    "  split_superfamilies[\"val\"].append(sf)\n",
    "  split_counts[\"val\"] += count\n",
    "  idx += 1\n",
    "\n",
    "# Every remaining example goes in the training set.\n",
    "split_superfamilies[\"train\"].extend([\n",
    "  sf_count_low_to_high[i][0] for i in range(idx, len(sf_count_low_to_high))\n",
    "])\n",
    "\n",
    "split_counts[\"train\"] = sum([sf_count_low_to_high[i][1] for i in range(idx, len(sf_count_low_to_high))])\n",
    "\n",
    "print(\"\\n-- ACTUAL SPLITS:\")\n",
    "print(\"test:\", split_counts[\"test\"])\n",
    "print(\"val:\", split_counts[\"val\"])\n",
    "print(\"train:\", split_counts[\"train\"])\n",
    "\n",
    "print(\"(Note: Due to the size of superfamilies, the actual splits may be slightly different in size.)\")\n",
    "\n",
    "# Make sure that every example is accounted for!\n",
    "assert(sum(split_counts.values()) == len(df))\n",
    "\n",
    "# Write the splits to files:\n",
    "for split_name in (\"train\", \"val\", \"test\"):\n",
    "  sf_list = split_superfamilies[split_name]\n",
    "  df_split = df[df.superfamily.isin(sf_list)]\n",
    "  df_split.to_csv(paths.data_folder(f\"{split_name}_cath_w_seqs_share.csv\"), index=False)"
   ]
  },
  {
   "cell_type": "code",
   "execution_count": null,
   "metadata": {},
   "outputs": [],
   "source": [
    "# Ensure that no examples are shared across splits!\n",
    "cath_ids = dict(train=set(), val=set(), test=set())\n",
    "\n",
    "for split_name in cath_ids:\n",
    "  df_split = pd.read_csv(paths.data_folder(f\"{split_name}_cath_w_seqs_share.csv\"))\n",
    "  cath_ids[split_name] = set(df_split.cath_id.unique())\n",
    "\n",
    "# Just to be really sure...\n",
    "assert(cath_ids[\"train\"].isdisjoint(cath_ids[\"test\"]))\n",
    "assert(cath_ids[\"train\"].isdisjoint(cath_ids[\"val\"]))\n",
    "assert(cath_ids[\"val\"].isdisjoint(cath_ids[\"test\"]))"
   ]
  },
  {
   "cell_type": "markdown",
   "metadata": {},
   "source": [
    "## Distribution of Labels\n",
    "\n",
    "Are the labels fairly balanced across the possible categories? Yes! So probably no need to do special weighting in the loss function."
   ]
  },
  {
   "cell_type": "code",
   "execution_count": null,
   "metadata": {},
   "outputs": [],
   "source": [
    "from gvpgnn.data_models import architecture_labels"
   ]
  },
  {
   "cell_type": "code",
   "execution_count": null,
   "metadata": {},
   "outputs": [],
   "source": [
    "df['label_tuple'] = list(zip(df['class'], df['architecture']))\n",
    "df['label_integer'] = df.label_tuple.map(lambda tup: architecture_labels[tup])"
   ]
  },
  {
   "cell_type": "code",
   "execution_count": null,
   "metadata": {},
   "outputs": [],
   "source": [
    "df.groupby(by=\"label_tuple\").size()"
   ]
  },
  {
   "cell_type": "code",
   "execution_count": null,
   "metadata": {},
   "outputs": [],
   "source": [
    "for split_name in (\"train\", \"val\", \"test\"):\n",
    "  print(\"-----\",  split_name, \"-----\")\n",
    "  df_split = pd.read_csv(paths.data_folder(f\"{split_name}_cath_w_seqs_share.csv\"))\n",
    "\n",
    "  df_split['label_tuple'] = list(zip(df_split['class'], df_split['architecture']))\n",
    "  df_split['label_integer'] = df_split.label_tuple.map(lambda tup: architecture_labels[tup])\n",
    "\n",
    "  print(\"Distribution of labels:\")\n",
    "  print(100 * df_split.groupby(by=\"label_tuple\").size() / len(df_split))\n",
    "\n",
    "\n",
    "# What is the distribution of labels in the train+val set?\n",
    "# df_train_val = pd.concat([\n",
    "#   pd.read_csv(paths.data_folder(f\"train_cath_w_seqs_share.csv\")),\n",
    "#   pd.read_csv(paths.data_folder(f\"val_cath_w_seqs_share.csv\"))\n",
    "# ])\n",
    "\n",
    "# df_train_val['label_tuple'] = list(zip(df_train_val['class'], df_train_val['architecture']))\n",
    "\n",
    "# print(\"Distribution of labels:\")\n",
    "# print(100 * df_train_val.groupby(by=\"label_tuple\").size() / len(df_train_val))"
   ]
  },
  {
   "cell_type": "code",
   "execution_count": null,
   "metadata": {},
   "outputs": [],
   "source": [
    "import torch.utils.data as data"
   ]
  },
  {
   "cell_type": "code",
   "execution_count": null,
   "metadata": {},
   "outputs": [],
   "source": [
    "list(data.WeightedRandomSampler([0.9, 0.05, 0.05], 100))"
   ]
  },
  {
   "cell_type": "code",
   "execution_count": null,
   "metadata": {},
   "outputs": [],
   "source": []
  }
 ],
 "metadata": {
  "kernelspec": {
   "display_name": "cath-proteins-q1ibxFh1",
   "language": "python",
   "name": "python3"
  },
  "language_info": {
   "codemirror_mode": {
    "name": "ipython",
    "version": 3
   },
   "file_extension": ".py",
   "mimetype": "text/x-python",
   "name": "python",
   "nbconvert_exporter": "python",
   "pygments_lexer": "ipython3",
   "version": "3.11.7"
  }
 },
 "nbformat": 4,
 "nbformat_minor": 2
}
